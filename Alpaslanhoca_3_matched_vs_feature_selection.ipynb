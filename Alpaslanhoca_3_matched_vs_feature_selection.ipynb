{
 "cells": [
  {
   "cell_type": "code",
   "execution_count": 4,
   "metadata": {
    "collapsed": true
   },
   "outputs": [],
   "source": [
    "import matplotlib.pyplot as plt\n",
    "import numpy as np\n",
    "import pandas as pd\n",
    "import seaborn as sns\n",
    "import warnings\n",
    "warnings.filterwarnings(\"ignore\")\n",
    "from bokeh.plotting import figure, show\n",
    "import tensorflow as tf\n",
    "import time \n",
    "from datetime import timedelta\n",
    "import os\n",
    "os.chdir(path=r'C:\\Users\\LenovoE73\\Desktop\\alparslan_hoca')\n",
    "#import FinanceLab as finlab\n",
    "import scipy \n",
    "import statistics as stat \n",
    "import stockstats\n",
    "import researchpy as rp\n",
    "%matplotlib inline\n",
    "from matplotlib import style\n",
    "style.use('ggplot')\n",
    "from pandas.api.types import CategoricalDtype\n",
    "from sklearn.model_selection import train_test_split\n",
    "import statsmodels.api as sm\n",
    "import statsmodels.formula.api as smf\n",
    "from sklearn.model_selection import train_test_split, GridSearchCV, cross_val_score\n",
    "from sklearn.metrics import confusion_matrix, accuracy_score, classification_report\n",
    "from sklearn.metrics import roc_auc_score,roc_curve\n",
    "from sklearn.metrics import multilabel_confusion_matrix\n",
    "from sklearn.metrics import f1_score\n",
    "import statsmodels.formula.api as smf\n",
    "from sklearn.neighbors import KNeighborsClassifier\n",
    "from sklearn.discriminant_analysis import LinearDiscriminantAnalysis\n",
    "from sklearn.linear_model import LogisticRegression\n",
    "from sklearn.svm import SVC\n",
    "from sklearn.naive_bayes import GaussianNB\n",
    "from sklearn import tree\n",
    "from sklearn.ensemble import RandomForestClassifier\n",
    "from sklearn.ensemble import GradientBoostingClassifier\n",
    "from xgboost import XGBClassifier\n",
    "from lightgbm import LGBMClassifier\n",
    "#from catboost import CatBoostClassifier\n",
    "import missingno as msno\n",
    "import numpy as np\n",
    "import matplotlib.pyplot as plt\n",
    "import matplotlib as mpl\n",
    "from sklearn.linear_model import LinearRegression\n",
    "#import FinanceLab as finlab\n",
    "\n",
    "import statsmodels.api as sm\n",
    "import matplotlib.pyplot as plt\n",
    "from itertools import cycle\n",
    "\n",
    "from sklearn import svm, datasets\n",
    "from sklearn.preprocessing import label_binarize\n",
    "from sklearn.multiclass import OneVsRestClassifier\n",
    "from scipy import interp\n",
    "from sklearn.metrics import roc_auc_score\n",
    "from sklearn.metrics import mean_squared_error, r2_score\n",
    "from sklearn.preprocessing import scale \n",
    "from sklearn import model_selection\n",
    "from sklearn.tree import DecisionTreeRegressor, DecisionTreeClassifier\n",
    "from sklearn.neighbors import KNeighborsRegressor\n",
    "from sklearn.ensemble import BaggingRegressor\n",
    "from warnings import filterwarnings\n",
    "filterwarnings('ignore')\n",
    "\n"
   ]
  },
  {
   "cell_type": "markdown",
   "metadata": {},
   "source": [
    "# Data Analaysis"
   ]
  },
  {
   "cell_type": "markdown",
   "metadata": {},
   "source": [
    "# Veri Matched"
   ]
  },
  {
   "cell_type": "code",
   "execution_count": 37,
   "metadata": {
    "collapsed": true
   },
   "outputs": [],
   "source": [
    "xl = pd.ExcelFile(\"Veri-Matched.xlsx\")\n",
    "Veri_Matched = xl.parse(\"Full\")\n",
    "Veri_Matched_copy = Veri_Matched.copy()\n",
    "df_temiz_matched = Veri_Matched_copy.drop(columns=['Firm', 'Year', 'AO'])"
   ]
  },
  {
   "cell_type": "code",
   "execution_count": 38,
   "metadata": {},
   "outputs": [
    {
     "data": {
      "text/plain": [
       "234"
      ]
     },
     "execution_count": 38,
     "metadata": {},
     "output_type": "execute_result"
    }
   ],
   "source": [
    "len(df_temiz_matched)"
   ]
  },
  {
   "cell_type": "code",
   "execution_count": 39,
   "metadata": {
    "scrolled": false
   },
   "outputs": [
    {
     "data": {
      "text/plain": [
       "Index(['Firm', 'Year', 'AO', 'L1', 'L2', 'L3', 'L4', 'L5', 'S1', 'S2', 'S3',\n",
       "       'S4', 'S5', 'S6', 'T1', 'T2', 'T3', 'T4', 'T5', 'T6', 'P1', 'P2', 'P3',\n",
       "       'P4', 'SIZE', 'BIG4'],\n",
       "      dtype='object')"
      ]
     },
     "execution_count": 39,
     "metadata": {},
     "output_type": "execute_result"
    }
   ],
   "source": [
    "Veri_Matched_copy.columns"
   ]
  },
  {
   "cell_type": "code",
   "execution_count": 40,
   "metadata": {},
   "outputs": [
    {
     "data": {
      "text/html": [
       "<div>\n",
       "<style scoped>\n",
       "    .dataframe tbody tr th:only-of-type {\n",
       "        vertical-align: middle;\n",
       "    }\n",
       "\n",
       "    .dataframe tbody tr th {\n",
       "        vertical-align: top;\n",
       "    }\n",
       "\n",
       "    .dataframe thead th {\n",
       "        text-align: right;\n",
       "    }\n",
       "</style>\n",
       "<table border=\"1\" class=\"dataframe\">\n",
       "  <thead>\n",
       "    <tr style=\"text-align: right;\">\n",
       "      <th></th>\n",
       "      <th>count</th>\n",
       "      <th>mean</th>\n",
       "      <th>std</th>\n",
       "      <th>min</th>\n",
       "      <th>25%</th>\n",
       "      <th>50%</th>\n",
       "      <th>75%</th>\n",
       "      <th>max</th>\n",
       "    </tr>\n",
       "  </thead>\n",
       "  <tbody>\n",
       "    <tr>\n",
       "      <th>L1</th>\n",
       "      <td>234.0</td>\n",
       "      <td>1.760486</td>\n",
       "      <td>1.972421</td>\n",
       "      <td>0.031697</td>\n",
       "      <td>0.772480</td>\n",
       "      <td>1.233067</td>\n",
       "      <td>1.913257</td>\n",
       "      <td>16.613240</td>\n",
       "    </tr>\n",
       "    <tr>\n",
       "      <th>L2</th>\n",
       "      <td>234.0</td>\n",
       "      <td>1.322621</td>\n",
       "      <td>1.785047</td>\n",
       "      <td>0.030212</td>\n",
       "      <td>0.444805</td>\n",
       "      <td>0.801980</td>\n",
       "      <td>1.398932</td>\n",
       "      <td>16.042763</td>\n",
       "    </tr>\n",
       "    <tr>\n",
       "      <th>L3</th>\n",
       "      <td>234.0</td>\n",
       "      <td>0.432721</td>\n",
       "      <td>1.443125</td>\n",
       "      <td>0.000019</td>\n",
       "      <td>0.008787</td>\n",
       "      <td>0.054378</td>\n",
       "      <td>0.302473</td>\n",
       "      <td>15.436918</td>\n",
       "    </tr>\n",
       "    <tr>\n",
       "      <th>L4</th>\n",
       "      <td>234.0</td>\n",
       "      <td>0.137560</td>\n",
       "      <td>0.524308</td>\n",
       "      <td>-2.793873</td>\n",
       "      <td>-0.030201</td>\n",
       "      <td>0.070486</td>\n",
       "      <td>0.199056</td>\n",
       "      <td>4.046311</td>\n",
       "    </tr>\n",
       "    <tr>\n",
       "      <th>L5</th>\n",
       "      <td>234.0</td>\n",
       "      <td>0.062241</td>\n",
       "      <td>0.553280</td>\n",
       "      <td>-2.326496</td>\n",
       "      <td>-0.095751</td>\n",
       "      <td>0.093901</td>\n",
       "      <td>0.289778</td>\n",
       "      <td>5.536457</td>\n",
       "    </tr>\n",
       "    <tr>\n",
       "      <th>S1</th>\n",
       "      <td>234.0</td>\n",
       "      <td>0.764015</td>\n",
       "      <td>1.204748</td>\n",
       "      <td>0.045995</td>\n",
       "      <td>0.374024</td>\n",
       "      <td>0.647816</td>\n",
       "      <td>0.792117</td>\n",
       "      <td>17.087913</td>\n",
       "    </tr>\n",
       "    <tr>\n",
       "      <th>S2</th>\n",
       "      <td>234.0</td>\n",
       "      <td>2.234478</td>\n",
       "      <td>7.130100</td>\n",
       "      <td>-26.253766</td>\n",
       "      <td>0.393125</td>\n",
       "      <td>1.097237</td>\n",
       "      <td>2.610781</td>\n",
       "      <td>57.717075</td>\n",
       "    </tr>\n",
       "    <tr>\n",
       "      <th>S3</th>\n",
       "      <td>234.0</td>\n",
       "      <td>0.228780</td>\n",
       "      <td>0.491142</td>\n",
       "      <td>0.001127</td>\n",
       "      <td>0.049851</td>\n",
       "      <td>0.110995</td>\n",
       "      <td>0.235349</td>\n",
       "      <td>6.471839</td>\n",
       "    </tr>\n",
       "    <tr>\n",
       "      <th>S4</th>\n",
       "      <td>234.0</td>\n",
       "      <td>0.475475</td>\n",
       "      <td>2.485714</td>\n",
       "      <td>-10.052762</td>\n",
       "      <td>0.046005</td>\n",
       "      <td>0.174498</td>\n",
       "      <td>0.598221</td>\n",
       "      <td>15.942091</td>\n",
       "    </tr>\n",
       "    <tr>\n",
       "      <th>S5</th>\n",
       "      <td>234.0</td>\n",
       "      <td>3.162193</td>\n",
       "      <td>7.087942</td>\n",
       "      <td>-25.253766</td>\n",
       "      <td>1.387820</td>\n",
       "      <td>2.088381</td>\n",
       "      <td>3.581245</td>\n",
       "      <td>58.717075</td>\n",
       "    </tr>\n",
       "    <tr>\n",
       "      <th>S6</th>\n",
       "      <td>234.0</td>\n",
       "      <td>0.326148</td>\n",
       "      <td>0.553898</td>\n",
       "      <td>-3.401328</td>\n",
       "      <td>0.211541</td>\n",
       "      <td>0.356586</td>\n",
       "      <td>0.629038</td>\n",
       "      <td>2.807215</td>\n",
       "    </tr>\n",
       "    <tr>\n",
       "      <th>T1</th>\n",
       "      <td>234.0</td>\n",
       "      <td>20.590033</td>\n",
       "      <td>69.297282</td>\n",
       "      <td>-167.977505</td>\n",
       "      <td>2.363482</td>\n",
       "      <td>5.372788</td>\n",
       "      <td>13.202178</td>\n",
       "      <td>473.737506</td>\n",
       "    </tr>\n",
       "    <tr>\n",
       "      <th>T2</th>\n",
       "      <td>234.0</td>\n",
       "      <td>6.449698</td>\n",
       "      <td>237.716750</td>\n",
       "      <td>-3351.569803</td>\n",
       "      <td>1.319745</td>\n",
       "      <td>2.892530</td>\n",
       "      <td>8.301979</td>\n",
       "      <td>1151.226296</td>\n",
       "    </tr>\n",
       "    <tr>\n",
       "      <th>T3</th>\n",
       "      <td>234.0</td>\n",
       "      <td>0.901198</td>\n",
       "      <td>0.793435</td>\n",
       "      <td>-0.754548</td>\n",
       "      <td>0.391420</td>\n",
       "      <td>0.759730</td>\n",
       "      <td>1.180037</td>\n",
       "      <td>4.495674</td>\n",
       "    </tr>\n",
       "    <tr>\n",
       "      <th>T4</th>\n",
       "      <td>234.0</td>\n",
       "      <td>1.595765</td>\n",
       "      <td>2.369331</td>\n",
       "      <td>-26.146820</td>\n",
       "      <td>0.865243</td>\n",
       "      <td>1.349578</td>\n",
       "      <td>2.058058</td>\n",
       "      <td>9.324235</td>\n",
       "    </tr>\n",
       "    <tr>\n",
       "      <th>T5</th>\n",
       "      <td>234.0</td>\n",
       "      <td>1.399904</td>\n",
       "      <td>31.381972</td>\n",
       "      <td>-182.252439</td>\n",
       "      <td>-1.617794</td>\n",
       "      <td>1.419209</td>\n",
       "      <td>3.805722</td>\n",
       "      <td>235.084361</td>\n",
       "    </tr>\n",
       "    <tr>\n",
       "      <th>T6</th>\n",
       "      <td>234.0</td>\n",
       "      <td>0.451666</td>\n",
       "      <td>39.417825</td>\n",
       "      <td>-412.713417</td>\n",
       "      <td>0.410513</td>\n",
       "      <td>1.351142</td>\n",
       "      <td>3.162485</td>\n",
       "      <td>211.167614</td>\n",
       "    </tr>\n",
       "    <tr>\n",
       "      <th>P1</th>\n",
       "      <td>234.0</td>\n",
       "      <td>23.466764</td>\n",
       "      <td>356.671089</td>\n",
       "      <td>-24.893196</td>\n",
       "      <td>-0.117343</td>\n",
       "      <td>0.040214</td>\n",
       "      <td>0.132196</td>\n",
       "      <td>5455.498438</td>\n",
       "    </tr>\n",
       "    <tr>\n",
       "      <th>P2</th>\n",
       "      <td>234.0</td>\n",
       "      <td>0.025862</td>\n",
       "      <td>0.172742</td>\n",
       "      <td>-0.730133</td>\n",
       "      <td>-0.043386</td>\n",
       "      <td>0.030510</td>\n",
       "      <td>0.096805</td>\n",
       "      <td>0.995394</td>\n",
       "    </tr>\n",
       "    <tr>\n",
       "      <th>P3</th>\n",
       "      <td>234.0</td>\n",
       "      <td>0.101039</td>\n",
       "      <td>0.974669</td>\n",
       "      <td>-6.923167</td>\n",
       "      <td>-0.015317</td>\n",
       "      <td>0.118871</td>\n",
       "      <td>0.273673</td>\n",
       "      <td>8.727078</td>\n",
       "    </tr>\n",
       "    <tr>\n",
       "      <th>P4</th>\n",
       "      <td>234.0</td>\n",
       "      <td>-0.191049</td>\n",
       "      <td>0.712777</td>\n",
       "      <td>-7.719254</td>\n",
       "      <td>-0.368208</td>\n",
       "      <td>0.009232</td>\n",
       "      <td>0.100575</td>\n",
       "      <td>0.704744</td>\n",
       "    </tr>\n",
       "    <tr>\n",
       "      <th>SIZE</th>\n",
       "      <td>234.0</td>\n",
       "      <td>8.346593</td>\n",
       "      <td>0.595972</td>\n",
       "      <td>6.724183</td>\n",
       "      <td>8.007052</td>\n",
       "      <td>8.318041</td>\n",
       "      <td>8.736766</td>\n",
       "      <td>10.631371</td>\n",
       "    </tr>\n",
       "    <tr>\n",
       "      <th>BIG4</th>\n",
       "      <td>234.0</td>\n",
       "      <td>0.324786</td>\n",
       "      <td>0.469299</td>\n",
       "      <td>0.000000</td>\n",
       "      <td>0.000000</td>\n",
       "      <td>0.000000</td>\n",
       "      <td>1.000000</td>\n",
       "      <td>1.000000</td>\n",
       "    </tr>\n",
       "  </tbody>\n",
       "</table>\n",
       "</div>"
      ],
      "text/plain": [
       "      count       mean         std          min       25%       50%  \\\n",
       "L1    234.0   1.760486    1.972421     0.031697  0.772480  1.233067   \n",
       "L2    234.0   1.322621    1.785047     0.030212  0.444805  0.801980   \n",
       "L3    234.0   0.432721    1.443125     0.000019  0.008787  0.054378   \n",
       "L4    234.0   0.137560    0.524308    -2.793873 -0.030201  0.070486   \n",
       "L5    234.0   0.062241    0.553280    -2.326496 -0.095751  0.093901   \n",
       "S1    234.0   0.764015    1.204748     0.045995  0.374024  0.647816   \n",
       "S2    234.0   2.234478    7.130100   -26.253766  0.393125  1.097237   \n",
       "S3    234.0   0.228780    0.491142     0.001127  0.049851  0.110995   \n",
       "S4    234.0   0.475475    2.485714   -10.052762  0.046005  0.174498   \n",
       "S5    234.0   3.162193    7.087942   -25.253766  1.387820  2.088381   \n",
       "S6    234.0   0.326148    0.553898    -3.401328  0.211541  0.356586   \n",
       "T1    234.0  20.590033   69.297282  -167.977505  2.363482  5.372788   \n",
       "T2    234.0   6.449698  237.716750 -3351.569803  1.319745  2.892530   \n",
       "T3    234.0   0.901198    0.793435    -0.754548  0.391420  0.759730   \n",
       "T4    234.0   1.595765    2.369331   -26.146820  0.865243  1.349578   \n",
       "T5    234.0   1.399904   31.381972  -182.252439 -1.617794  1.419209   \n",
       "T6    234.0   0.451666   39.417825  -412.713417  0.410513  1.351142   \n",
       "P1    234.0  23.466764  356.671089   -24.893196 -0.117343  0.040214   \n",
       "P2    234.0   0.025862    0.172742    -0.730133 -0.043386  0.030510   \n",
       "P3    234.0   0.101039    0.974669    -6.923167 -0.015317  0.118871   \n",
       "P4    234.0  -0.191049    0.712777    -7.719254 -0.368208  0.009232   \n",
       "SIZE  234.0   8.346593    0.595972     6.724183  8.007052  8.318041   \n",
       "BIG4  234.0   0.324786    0.469299     0.000000  0.000000  0.000000   \n",
       "\n",
       "            75%          max  \n",
       "L1     1.913257    16.613240  \n",
       "L2     1.398932    16.042763  \n",
       "L3     0.302473    15.436918  \n",
       "L4     0.199056     4.046311  \n",
       "L5     0.289778     5.536457  \n",
       "S1     0.792117    17.087913  \n",
       "S2     2.610781    57.717075  \n",
       "S3     0.235349     6.471839  \n",
       "S4     0.598221    15.942091  \n",
       "S5     3.581245    58.717075  \n",
       "S6     0.629038     2.807215  \n",
       "T1    13.202178   473.737506  \n",
       "T2     8.301979  1151.226296  \n",
       "T3     1.180037     4.495674  \n",
       "T4     2.058058     9.324235  \n",
       "T5     3.805722   235.084361  \n",
       "T6     3.162485   211.167614  \n",
       "P1     0.132196  5455.498438  \n",
       "P2     0.096805     0.995394  \n",
       "P3     0.273673     8.727078  \n",
       "P4     0.100575     0.704744  \n",
       "SIZE   8.736766    10.631371  \n",
       "BIG4   1.000000     1.000000  "
      ]
     },
     "execution_count": 40,
     "metadata": {},
     "output_type": "execute_result"
    }
   ],
   "source": [
    "df_temiz_matched.describe().T"
   ]
  },
  {
   "cell_type": "markdown",
   "metadata": {},
   "source": [
    "###########################################################################################################################"
   ]
  },
  {
   "cell_type": "markdown",
   "metadata": {},
   "source": [
    "# Feature Selection"
   ]
  },
  {
   "cell_type": "markdown",
   "metadata": {},
   "source": [
    "# penalty function"
   ]
  },
  {
   "cell_type": "code",
   "execution_count": 41,
   "metadata": {
    "collapsed": true
   },
   "outputs": [],
   "source": [
    "def run_randomForest(X_train, X_test, y_train, y_test):\n",
    "    clf = RandomForestClassifier(n_estimators=100, random_state=0, n_jobs=-1)\n",
    "    clf.fit(X_train, y_train)\n",
    "    y_pred = clf.predict(X_test)\n",
    "    print('Accuracy on test set: ')\n",
    "    print(accuracy_score(y_test, y_pred))"
   ]
  },
  {
   "cell_type": "code",
   "execution_count": 57,
   "metadata": {
    "collapsed": true
   },
   "outputs": [],
   "source": [
    "#  %%time\n",
    "#  run_randomForest(X_train_mi, X_test_mi, y_train, y_test);"
   ]
  },
  {
   "cell_type": "code",
   "execution_count": 58,
   "metadata": {
    "collapsed": true
   },
   "outputs": [],
   "source": [
    "#  %%time\n",
    "#  run_randomForest(X_train, X_test, y_train, y_test)"
   ]
  },
  {
   "cell_type": "markdown",
   "metadata": {},
   "source": [
    "# import library"
   ]
  },
  {
   "cell_type": "code",
   "execution_count": 3,
   "metadata": {
    "collapsed": true
   },
   "outputs": [],
   "source": [
    "from sklearn.model_selection import train_test_split\n",
    "from sklearn.ensemble import RandomForestClassifier\n",
    "from sklearn.feature_selection import SelectFromModel\n",
    "from sklearn.metrics import accuracy_score\n",
    "from sklearn.feature_selection import SelectFromModel\n",
    "from sklearn.ensemble import AdaBoostRegressor\n",
    "from sklearn.datasets import load_boston\n",
    "from numpy import array "
   ]
  },
  {
   "cell_type": "markdown",
   "metadata": {},
   "source": [
    "# Define dataset"
   ]
  },
  {
   "cell_type": "code",
   "execution_count": 42,
   "metadata": {
    "collapsed": true
   },
   "outputs": [],
   "source": [
    "y = Veri_Matched_copy[\"AO\"]\n",
    "X = df_temiz_matched\n",
    "X_train, X_test, y_train, y_test = train_test_split(X, y, \n",
    "                                                    test_size=0.20, \n",
    "                                                    random_state=42)"
   ]
  },
  {
   "cell_type": "markdown",
   "metadata": {},
   "source": [
    "# cross valitaion Test "
   ]
  },
  {
   "cell_type": "code",
   "execution_count": 369,
   "metadata": {
    "collapsed": true
   },
   "outputs": [],
   "source": [
    "scores = cross_val_score(rf_model, X, y, cv=10, scoring='accuracy')"
   ]
  },
  {
   "cell_type": "code",
   "execution_count": 370,
   "metadata": {},
   "outputs": [
    {
     "name": "stdout",
     "output_type": "stream",
     "text": [
      "scores :  [0.75       1.         0.70833333 0.95833333 0.73913043 0.95652174\n",
      " 0.91304348 0.82608696 0.91304348 0.91304348]\n"
     ]
    }
   ],
   "source": [
    "print(\"scores : \", scores)"
   ]
  },
  {
   "cell_type": "code",
   "execution_count": 371,
   "metadata": {},
   "outputs": [
    {
     "name": "stdout",
     "output_type": "stream",
     "text": [
      "scores mean:  0.8677536231884059\n"
     ]
    }
   ],
   "source": [
    "print(\"scores mean: \", scores.mean())"
   ]
  },
  {
   "cell_type": "code",
   "execution_count": 375,
   "metadata": {
    "collapsed": true
   },
   "outputs": [],
   "source": [
    "scores_feature_rf = cross_val_score(rf_model_rf, X[features_random_forrest], y, cv=10, scoring='accuracy')"
   ]
  },
  {
   "cell_type": "code",
   "execution_count": 376,
   "metadata": {},
   "outputs": [
    {
     "name": "stdout",
     "output_type": "stream",
     "text": [
      "scores_feature_rf :  [0.75       1.         0.625      0.91666667 0.73913043 1.\n",
      " 0.95652174 0.91304348 0.82608696 1.        ]\n"
     ]
    }
   ],
   "source": [
    "print(\"scores_feature_rf : \", scores_feature_rf)"
   ]
  },
  {
   "cell_type": "code",
   "execution_count": 377,
   "metadata": {},
   "outputs": [
    {
     "name": "stdout",
     "output_type": "stream",
     "text": [
      "scores_feature_rf mean:  0.872644927536232\n"
     ]
    }
   ],
   "source": [
    "print(\"scores_feature_rf mean: \", scores_feature_rf.mean())"
   ]
  },
  {
   "cell_type": "code",
   "execution_count": 394,
   "metadata": {},
   "outputs": [
    {
     "name": "stdout",
     "output_type": "stream",
     "text": [
      "scores_feature_adaboost mean:  0.8894927536231882\n"
     ]
    }
   ],
   "source": [
    "scores_feature_adaboost = cross_val_score(rf_model_adaboost, X[features_adaboost], y, cv=10, scoring='accuracy')\n",
    "print(\"scores_feature_adaboost mean: \", scores_feature_adaboost.mean())"
   ]
  },
  {
   "cell_type": "code",
   "execution_count": null,
   "metadata": {
    "collapsed": true
   },
   "outputs": [],
   "source": []
  },
  {
   "cell_type": "markdown",
   "metadata": {},
   "source": [
    "# Random Forrest"
   ]
  },
  {
   "cell_type": "code",
   "execution_count": 43,
   "metadata": {
    "scrolled": true
   },
   "outputs": [
    {
     "data": {
      "text/plain": [
       "23"
      ]
     },
     "execution_count": 43,
     "metadata": {},
     "output_type": "execute_result"
    }
   ],
   "source": [
    "sel = SelectFromModel(RandomForestClassifier(n_estimators=100, random_state=0, n_jobs=-1))\n",
    "sel.fit(X_train, y_train)\n",
    "len(sel.get_support())"
   ]
  },
  {
   "cell_type": "code",
   "execution_count": 44,
   "metadata": {},
   "outputs": [
    {
     "name": "stdout",
     "output_type": "stream",
     "text": [
      "187\n",
      "47\n",
      "187\n",
      "47\n"
     ]
    }
   ],
   "source": [
    "print(len(X_train))\n",
    "print(len(X_test))\n",
    "print(len(y_train))\n",
    "print(len(y_test))"
   ]
  },
  {
   "cell_type": "code",
   "execution_count": 45,
   "metadata": {
    "scrolled": false
   },
   "outputs": [
    {
     "name": "stdout",
     "output_type": "stream",
     "text": [
      "Accuracy on test set: \n",
      "0.9361702127659575\n",
      "Wall time: 778 ms\n"
     ]
    }
   ],
   "source": [
    "%%time\n",
    "run_randomForest(X_train[X_train.columns[sel.get_support()]], X_test[X_test.columns[sel.get_support()]], y_train, y_test);"
   ]
  },
  {
   "cell_type": "code",
   "execution_count": 46,
   "metadata": {},
   "outputs": [
    {
     "data": {
      "text/plain": [
       "Index(['L1', 'L2', 'L3', 'L5', 'S6', 'T5', 'P1', 'P2', 'P4'], dtype='object')"
      ]
     },
     "execution_count": 46,
     "metadata": {},
     "output_type": "execute_result"
    }
   ],
   "source": [
    "features_random_forrest =X_train.columns[sel.get_support()]\n",
    "features_random_forrest"
   ]
  },
  {
   "cell_type": "code",
   "execution_count": 49,
   "metadata": {},
   "outputs": [],
   "source": [
    "from sklearn.feature_selection import VarianceThreshold, mutual_info_classif, mutual_info_regression\n",
    "from sklearn.feature_selection import SelectKBest, SelectPercentile"
   ]
  },
  {
   "cell_type": "code",
   "execution_count": 50,
   "metadata": {},
   "outputs": [
    {
     "ename": "NameError",
     "evalue": "name 'X_train_grouped_uncorr' is not defined",
     "output_type": "error",
     "traceback": [
      "\u001b[1;31m---------------------------------------------------------------------------\u001b[0m",
      "\u001b[1;31mNameError\u001b[0m                                 Traceback (most recent call last)",
      "\u001b[1;32m<ipython-input-50-3586dff1adc2>\u001b[0m in \u001b[0;36m<module>\u001b[1;34m()\u001b[0m\n\u001b[1;32m----> 1\u001b[1;33m \u001b[0mmi\u001b[0m \u001b[1;33m=\u001b[0m \u001b[0mmutual_info_classif\u001b[0m\u001b[1;33m(\u001b[0m\u001b[0mX_train_grouped_uncorr\u001b[0m\u001b[1;33m,\u001b[0m \u001b[0my_train\u001b[0m\u001b[1;33m)\u001b[0m\u001b[1;33m\u001b[0m\u001b[0m\n\u001b[0m",
      "\u001b[1;31mNameError\u001b[0m: name 'X_train_grouped_uncorr' is not defined"
     ]
    }
   ],
   "source": [
    "mi = mutual_info_classif(y_train[features_random_forrest], y_train)"
   ]
  },
  {
   "cell_type": "code",
   "execution_count": 53,
   "metadata": {},
   "outputs": [
    {
     "data": {
      "text/plain": [
       "117    0\n",
       "155    0\n",
       "148    0\n",
       "158    0\n",
       "231    1\n",
       "162    0\n",
       "218    0\n",
       "108    1\n",
       "97     1\n",
       "168    1\n",
       "73     1\n",
       "38     0\n",
       "104    1\n",
       "172    0\n",
       "171    1\n",
       "111    1\n",
       "221    0\n",
       "67     0\n",
       "217    0\n",
       "113    0\n",
       "68     0\n",
       "75     0\n",
       "29     0\n",
       "114    0\n",
       "126    1\n",
       "79     1\n",
       "5      0\n",
       "56     0\n",
       "120    0\n",
       "141    0\n",
       "      ..\n",
       "226    0\n",
       "187    0\n",
       "191    0\n",
       "129    0\n",
       "37     1\n",
       "157    0\n",
       "219    0\n",
       "1      0\n",
       "52     1\n",
       "149    0\n",
       "130    0\n",
       "151    0\n",
       "103    1\n",
       "99     1\n",
       "116    0\n",
       "87     1\n",
       "202    0\n",
       "74     1\n",
       "214    1\n",
       "210    1\n",
       "121    0\n",
       "233    0\n",
       "20     0\n",
       "188    0\n",
       "71     1\n",
       "106    1\n",
       "14     1\n",
       "92     1\n",
       "179    0\n",
       "102    0\n",
       "Name: AO, Length: 187, dtype: int64"
      ]
     },
     "execution_count": 53,
     "metadata": {},
     "output_type": "execute_result"
    }
   ],
   "source": [
    "y_train"
   ]
  },
  {
   "cell_type": "code",
   "execution_count": null,
   "metadata": {
    "collapsed": true
   },
   "outputs": [],
   "source": []
  },
  {
   "cell_type": "markdown",
   "metadata": {},
   "source": [
    "# AdaBoostRegressor"
   ]
  },
  {
   "cell_type": "code",
   "execution_count": 221,
   "metadata": {
    "collapsed": true
   },
   "outputs": [],
   "source": [
    "estimator = AdaBoostRegressor(random_state=0, n_estimators=50)\n",
    "selector = SelectFromModel(estimator)\n",
    "selector = selector.fit(X_train, y_train)"
   ]
  },
  {
   "cell_type": "code",
   "execution_count": 150,
   "metadata": {},
   "outputs": [
    {
     "data": {
      "text/plain": [
       "Index(['L2', 'L4', 'S4', 'T1', 'T5', 'P4', 'SIZE'], dtype='object')"
      ]
     },
     "execution_count": 150,
     "metadata": {},
     "output_type": "execute_result"
    }
   ],
   "source": [
    "X_train.columns[selector.get_support()]"
   ]
  },
  {
   "cell_type": "code",
   "execution_count": 151,
   "metadata": {},
   "outputs": [
    {
     "name": "stdout",
     "output_type": "stream",
     "text": [
      "Accuracy on test set: \n",
      "0.9574468085106383\n",
      "Wall time: 550 ms\n"
     ]
    }
   ],
   "source": [
    "%%time\n",
    "run_randomForest(X_train[X_train.columns[selector.get_support()]], X_test[X_test.columns[selector.get_support()]], y_train, y_test);"
   ]
  },
  {
   "cell_type": "code",
   "execution_count": 152,
   "metadata": {},
   "outputs": [
    {
     "data": {
      "text/plain": [
       "Index(['L2', 'L4', 'S4', 'T1', 'T5', 'P4', 'SIZE'], dtype='object')"
      ]
     },
     "execution_count": 152,
     "metadata": {},
     "output_type": "execute_result"
    }
   ],
   "source": [
    "features_adaboost = X_train.columns[selector.get_support()]\n",
    "features_adaboost"
   ]
  },
  {
   "cell_type": "markdown",
   "metadata": {},
   "source": [
    "# GBM estimator"
   ]
  },
  {
   "cell_type": "code",
   "execution_count": 222,
   "metadata": {
    "collapsed": true
   },
   "outputs": [],
   "source": [
    "from sklearn.ensemble import GradientBoostingClassifier as GBM"
   ]
  },
  {
   "cell_type": "code",
   "execution_count": 223,
   "metadata": {
    "collapsed": true
   },
   "outputs": [],
   "source": [
    "estimator = GBM(n_estimators=100, random_state=0),\n",
    "selector_gbm = SelectFromModel(GradientBoostingClassifier()).fit(X_train, y_train)\n",
    "\n"
   ]
  },
  {
   "cell_type": "code",
   "execution_count": 224,
   "metadata": {},
   "outputs": [
    {
     "data": {
      "text/plain": [
       "array([False,  True,  True, False, False, False, False, False, False,\n",
       "       False, False, False, False, False, False,  True, False, False,\n",
       "       False, False,  True, False, False])"
      ]
     },
     "execution_count": 224,
     "metadata": {},
     "output_type": "execute_result"
    }
   ],
   "source": [
    "selector_gbm.get_support()"
   ]
  },
  {
   "cell_type": "code",
   "execution_count": 225,
   "metadata": {
    "scrolled": true
   },
   "outputs": [
    {
     "name": "stdout",
     "output_type": "stream",
     "text": [
      "Accuracy on test set: \n",
      "0.8936170212765957\n",
      "Wall time: 549 ms\n"
     ]
    }
   ],
   "source": [
    "%%time\n",
    "run_randomForest(X_train[X_train.columns[selector_gbm.get_support()]], X_test[X_test.columns[selector_gbm.get_support()]], y_train, y_test);"
   ]
  },
  {
   "cell_type": "code",
   "execution_count": 237,
   "metadata": {},
   "outputs": [
    {
     "data": {
      "text/plain": [
       "Index(['L2', 'L3', 'T5', 'P4'], dtype='object')"
      ]
     },
     "execution_count": 237,
     "metadata": {},
     "output_type": "execute_result"
    }
   ],
   "source": [
    "'L2', 'L3', 'T5', 'P4'features_gbm = X_train.columns[selector_gbm.get_support()]\n",
    "features_gbm"
   ]
  },
  {
   "cell_type": "markdown",
   "metadata": {},
   "source": [
    "# Cart estimator"
   ]
  },
  {
   "cell_type": "code",
   "execution_count": 227,
   "metadata": {
    "collapsed": true
   },
   "outputs": [],
   "source": [
    "from sklearn.tree import DecisionTreeClassifier as cart# Import Decision Tree Classifier\n",
    "from sklearn.tree import DecisionTreeRegressor\n"
   ]
  },
  {
   "cell_type": "code",
   "execution_count": 228,
   "metadata": {
    "collapsed": true
   },
   "outputs": [],
   "source": [
    "cart = DecisionTreeClassifier(criterion=\"entropy\", max_depth=3)\n",
    "estimator = cart.fit(X_train,y_train)\n",
    "selector_cart = SelectFromModel(estimator)\n",
    "selector_cart = selector_cart.fit(X_train,y_train)\n"
   ]
  },
  {
   "cell_type": "code",
   "execution_count": 229,
   "metadata": {},
   "outputs": [
    {
     "data": {
      "text/plain": [
       "array([ True,  True, False, False, False, False, False, False, False,\n",
       "       False, False, False, False, False, False,  True, False, False,\n",
       "       False, False,  True,  True,  True])"
      ]
     },
     "execution_count": 229,
     "metadata": {},
     "output_type": "execute_result"
    }
   ],
   "source": [
    "selector_cart.get_support()"
   ]
  },
  {
   "cell_type": "code",
   "execution_count": 230,
   "metadata": {
    "scrolled": true
   },
   "outputs": [
    {
     "name": "stdout",
     "output_type": "stream",
     "text": [
      "Accuracy on test set: \n",
      "0.9148936170212766\n",
      "Wall time: 556 ms\n"
     ]
    }
   ],
   "source": [
    "%%time\n",
    "run_randomForest(X_train[X_train.columns[selector_cart.get_support()]], X_test[X_test.columns[selector_cart.get_support()]], y_train, y_test);"
   ]
  },
  {
   "cell_type": "code",
   "execution_count": 231,
   "metadata": {},
   "outputs": [
    {
     "data": {
      "text/plain": [
       "Index(['L1', 'L2', 'T5', 'P4', 'SIZE', 'BIG4'], dtype='object')"
      ]
     },
     "execution_count": 231,
     "metadata": {},
     "output_type": "execute_result"
    }
   ],
   "source": [
    "features_cart = X_train.columns[selector_cart.get_support()]\n",
    "features_cart"
   ]
  },
  {
   "cell_type": "markdown",
   "metadata": {},
   "source": [
    "################################################################################################################\n"
   ]
  },
  {
   "cell_type": "markdown",
   "metadata": {},
   "source": [
    "# Algoritmalar"
   ]
  },
  {
   "cell_type": "markdown",
   "metadata": {},
   "source": [
    "# 1. KNN "
   ]
  },
  {
   "cell_type": "code",
   "execution_count": 163,
   "metadata": {
    "collapsed": true
   },
   "outputs": [],
   "source": [
    "y = Veri_Matched_copy[\"AO\"]\n",
    "X = df_temiz_matched\n",
    "X_train, X_test, y_train, y_test = train_test_split(X, y, \n",
    "                                                    test_size=0.20, \n",
    "                                                    random_state=42)"
   ]
  },
  {
   "cell_type": "code",
   "execution_count": 164,
   "metadata": {
    "collapsed": true
   },
   "outputs": [],
   "source": [
    "X_train = X_train.replace((np.inf, -np.inf, np.nan), 0).reset_index(drop=True)\n",
    "y_test = np.nan_to_num(y_test)"
   ]
  },
  {
   "cell_type": "markdown",
   "metadata": {},
   "source": [
    "# scores"
   ]
  },
  {
   "cell_type": "code",
   "execution_count": 416,
   "metadata": {
    "collapsed": true
   },
   "outputs": [],
   "source": [
    "scores = ['accuracy','f1','recall','precision']"
   ]
  },
  {
   "cell_type": "markdown",
   "metadata": {},
   "source": [
    "# cross validation"
   ]
  },
  {
   "cell_type": "code",
   "execution_count": 395,
   "metadata": {},
   "outputs": [
    {
     "data": {
      "text/plain": [
       "KNeighborsClassifier(algorithm='auto', leaf_size=30, metric='minkowski',\n",
       "                     metric_params=None, n_jobs=None, n_neighbors=5, p=2,\n",
       "                     weights='uniform')"
      ]
     },
     "execution_count": 395,
     "metadata": {},
     "output_type": "execute_result"
    }
   ],
   "source": [
    "knn_model = KNeighborsClassifier()\n",
    "knn_model"
   ]
  },
  {
   "cell_type": "code",
   "execution_count": 401,
   "metadata": {},
   "outputs": [
    {
     "name": "stdout",
     "output_type": "stream",
     "text": [
      "[0.58333333 0.79166667 0.66666667 0.91666667 0.86956522 0.73913043\n",
      " 0.82608696 0.73913043 0.7826087  0.91304348]\n",
      "----\n",
      "0.7827898550724637\n"
     ]
    }
   ],
   "source": [
    "print(cross_val_score(knn_model,X,y,cv=10 , scoring='accuracy'))\n",
    "print(\"----\")\n",
    "result_knn_accuracy = cross_val_score(knn_model,X,y,cv=10, scoring='accuracy').mean()\n",
    "print(result_knn_accuracy)"
   ]
  },
  {
   "cell_type": "code",
   "execution_count": 402,
   "metadata": {},
   "outputs": [
    {
     "name": "stdout",
     "output_type": "stream",
     "text": [
      "[0.54545455 0.76190476 0.6        0.9        0.82352941 0.57142857\n",
      " 0.77777778 0.75       0.7826087  0.88888889]\n",
      "----\n",
      "0.7401592652871425\n"
     ]
    }
   ],
   "source": [
    "print(cross_val_score(knn_model,X,y,cv=10 , scoring='f1'))\n",
    "print(\"----\")\n",
    "result_knn_f1 = cross_val_score(knn_model,X,y,cv=10, scoring='f1').mean()\n",
    "print(result_knn_f1)"
   ]
  },
  {
   "cell_type": "code",
   "execution_count": 404,
   "metadata": {},
   "outputs": [
    {
     "name": "stdout",
     "output_type": "stream",
     "text": [
      "[0.6        0.8        0.6        0.9        0.77777778 0.4\n",
      " 0.7        0.9        0.9        0.8       ]\n",
      "----\n",
      "0.7377777777777778\n"
     ]
    }
   ],
   "source": [
    "print(cross_val_score(knn_model,X,y,cv=10 , scoring='recall'))\n",
    "print(\"----\")\n",
    "result_knn_recall = cross_val_score(knn_model,X,y,cv=10, scoring='recall').mean()\n",
    "print(result_knn_recall)"
   ]
  },
  {
   "cell_type": "code",
   "execution_count": 405,
   "metadata": {},
   "outputs": [
    {
     "name": "stdout",
     "output_type": "stream",
     "text": [
      "[0.5        0.72727273 0.6        0.9        0.875      1.\n",
      " 0.875      0.64285714 0.69230769 1.        ]\n",
      "----\n",
      "0.7812437562437563\n"
     ]
    }
   ],
   "source": [
    "print(cross_val_score(knn_model,X,y,cv=10 , scoring='precision'))\n",
    "print(\"----\")\n",
    "result_knn_precision = cross_val_score(knn_model,X,y,cv=10, scoring='precision').mean()\n",
    "print(result_knn_precision)"
   ]
  },
  {
   "cell_type": "markdown",
   "metadata": {},
   "source": [
    "# 1. KNN feature selection"
   ]
  },
  {
   "cell_type": "markdown",
   "metadata": {},
   "source": [
    "1- RF features ################################################################"
   ]
  },
  {
   "cell_type": "code",
   "execution_count": 411,
   "metadata": {
    "scrolled": false
   },
   "outputs": [
    {
     "data": {
      "text/plain": [
       "KNeighborsClassifier(algorithm='auto', leaf_size=30, metric='minkowski',\n",
       "                     metric_params=None, n_jobs=None, n_neighbors=5, p=2,\n",
       "                     weights='uniform')"
      ]
     },
     "execution_count": 411,
     "metadata": {},
     "output_type": "execute_result"
    }
   ],
   "source": [
    "knn_model = KNeighborsClassifier()\n",
    "knn_model"
   ]
  },
  {
   "cell_type": "code",
   "execution_count": 425,
   "metadata": {},
   "outputs": [
    {
     "data": {
      "text/plain": [
       "['accuracy', 'f1', 'recall', 'precision']"
      ]
     },
     "execution_count": 425,
     "metadata": {},
     "output_type": "execute_result"
    }
   ],
   "source": [
    "features_adaboost"
   ]
  },
  {
   "cell_type": "code",
   "execution_count": 427,
   "metadata": {},
   "outputs": [
    {
     "name": "stdout",
     "output_type": "stream",
     "text": [
      "accuracy list :  [0.58333333 0.91666667 0.83333333 0.91666667 0.86956522 0.82608696\n",
      " 0.82608696 0.82608696 0.82608696 0.82608696]\n",
      "result_knn_feature_rf_accuracy : 0.825\n",
      "----\n",
      "F1 list :  [0.5        0.9        0.8        0.9        0.84210526 0.75\n",
      " 0.77777778 0.83333333 0.75       0.75      ]\n",
      "result_knn_feature_rf_f1 : 0.7803216374269006\n",
      "----\n",
      "recall list :  [0.5        0.9        0.8        0.9        0.88888889 0.6\n",
      " 0.7        1.         0.6        0.6       ]\n",
      "result_knn_feature_rf_recall : 0.7488888888888889\n",
      "----\n",
      "precision list :  [0.5        0.9        0.8        0.9        0.8        1.\n",
      " 0.875      0.71428571 1.         1.        ]\n",
      "result_knn_feature_rf_precision : 0.8489285714285714\n",
      "----\n"
     ]
    }
   ],
   "source": [
    "#Accuracy\n",
    "\n",
    "print(\"accuracy list : \", cross_val_score(knn_model,X[features_random_forrest],y,cv=10 , scoring=scores[0]))\n",
    "result_knn_feature_rf_accuracy = cross_val_score(knn_model,X[features_random_forrest],y,cv=10, scoring=scores[0]).mean()\n",
    "print(\"result_knn_feature_rf_accuracy :\" , result_knn_feature_rf_accuracy)\n",
    "print(\"----\")\n",
    "\n",
    "# F1\n",
    "\n",
    "print(\"F1 list : \", cross_val_score(knn_model,X[features_random_forrest],y,cv=10 , scoring=scores[1]))\n",
    "result_knn_feature_rf_f1 = cross_val_score(knn_model,X[features_random_forrest],y,cv=10, scoring=scores[1]).mean()\n",
    "print(\"result_knn_feature_rf_f1 :\", result_knn_feature_rf_f1)\n",
    "print(\"----\")\n",
    "\n",
    "# recall\n",
    "\n",
    "print(\"recall list : \", cross_val_score(knn_model,X[features_random_forrest],y,cv=10 , scoring=scores[2]))\n",
    "result_knn_feature_rf_recall = cross_val_score(knn_model,X[features_random_forrest],y,cv=10, scoring=scores[2]).mean()\n",
    "print(\"result_knn_feature_rf_recall :\", result_knn_feature_rf_recall)\n",
    "print(\"----\")\n",
    "\n",
    "# precision\n",
    "\n",
    "print(\"precision list : \", cross_val_score(knn_model,X[features_random_forrest],y,cv=10 , scoring=scores[3]))\n",
    "result_knn_feature_rf_precision = cross_val_score(knn_model,X[features_random_forrest],y,cv=10, scoring=scores[3]).mean()\n",
    "print(\"result_knn_feature_rf_precision :\", result_knn_feature_rf_precision)\n",
    "print(\"----\")"
   ]
  },
  {
   "cell_type": "markdown",
   "metadata": {},
   "source": [
    "2- Adaboost Features ################################################################"
   ]
  },
  {
   "cell_type": "code",
   "execution_count": 429,
   "metadata": {},
   "outputs": [
    {
     "data": {
      "text/plain": [
       "KNeighborsClassifier(algorithm='auto', leaf_size=30, metric='minkowski',\n",
       "                     metric_params=None, n_jobs=None, n_neighbors=5, p=2,\n",
       "                     weights='uniform')"
      ]
     },
     "execution_count": 429,
     "metadata": {},
     "output_type": "execute_result"
    }
   ],
   "source": [
    "knn = KNeighborsClassifier()\n",
    "knn_model_adaboost_feature = knn.fit(X_train[features_adaboost], y_train)\n",
    "knn_model_adaboost_feature"
   ]
  },
  {
   "cell_type": "code",
   "execution_count": 430,
   "metadata": {},
   "outputs": [
    {
     "name": "stdout",
     "output_type": "stream",
     "text": [
      "accuracy list :  [0.58333333 0.79166667 0.875      0.91666667 0.65217391 0.82608696\n",
      " 0.82608696 0.73913043 0.60869565 0.82608696]\n",
      "result_knn_feature_adaboost_accuracy : 0.7644927536231884\n",
      "----\n",
      "F1 list :  [0.5        0.76190476 0.85714286 0.9        0.42857143 0.75\n",
      " 0.8        0.75       0.52631579 0.75      ]\n",
      "result_knn_feature_adaboost_f1 : 0.7023934837092731\n",
      "----\n",
      "recall list :  [0.5        0.8        0.9        0.9        0.33333333 0.6\n",
      " 0.8        0.9        0.5        0.6       ]\n",
      "result_knn_feature_adaboost_recall : 0.6833333333333333\n",
      "----\n",
      "precision list :  [0.5        0.72727273 0.81818182 0.9        0.6        1.\n",
      " 0.8        0.64285714 0.55555556 1.        ]\n",
      "result_knn_feature_adaboost_precision : 0.7543867243867244\n",
      "----\n"
     ]
    }
   ],
   "source": [
    "#Accuracy\n",
    "\n",
    "print(\"accuracy list : \", cross_val_score(knn_model_adaboost_feature,X[features_adaboost],y,cv=10 , scoring=scores[0]))\n",
    "result_knn_feature_adaboost_accuracy = cross_val_score(knn_model_adaboost_feature,X[features_adaboost],y,cv=10, scoring=scores[0]).mean()\n",
    "print(\"result_knn_feature_adaboost_accuracy :\" , result_knn_feature_adaboost_accuracy)\n",
    "print(\"----\")\n",
    "\n",
    "# F1\n",
    "\n",
    "print(\"F1 list : \", cross_val_score(knn_model_adaboost_feature,X[features_adaboost],y,cv=10 , scoring=scores[1]))\n",
    "result_knn_feature_adaboost_f1 = cross_val_score(knn_model_adaboost_feature,X[features_adaboost],y,cv=10, scoring=scores[1]).mean()\n",
    "print(\"result_knn_feature_adaboost_f1 :\", result_knn_feature_adaboost_f1)\n",
    "print(\"----\")\n",
    "\n",
    "# recall\n",
    "\n",
    "print(\"recall list : \", cross_val_score(knn_model_adaboost_feature,X[features_adaboost],y,cv=10 , scoring=scores[2]))\n",
    "result_knn_feature_adaboost_recall = cross_val_score(knn_model_adaboost_feature,X[features_adaboost],y,cv=10, scoring=scores[2]).mean()\n",
    "print(\"result_knn_feature_adaboost_recall :\", result_knn_feature_adaboost_recall)\n",
    "print(\"----\")\n",
    "\n",
    "# precision\n",
    "\n",
    "print(\"precision list : \", cross_val_score(knn_model_adaboost_feature,X[features_adaboost],y,cv=10 , scoring=scores[3]))\n",
    "result_knn_feature_adaboost_precision = cross_val_score(knn_model_adaboost_feature,X[features_adaboost],y,cv=10, scoring=scores[3]).mean()\n",
    "print(\"result_knn_feature_adaboost_precision :\", result_knn_feature_adaboost_precision)\n",
    "print(\"----\")\n"
   ]
  },
  {
   "cell_type": "markdown",
   "metadata": {},
   "source": [
    "3- GBM Features ################################################################"
   ]
  },
  {
   "cell_type": "code",
   "execution_count": 432,
   "metadata": {
    "scrolled": true
   },
   "outputs": [
    {
     "data": {
      "text/plain": [
       "KNeighborsClassifier(algorithm='auto', leaf_size=30, metric='minkowski',\n",
       "                     metric_params=None, n_jobs=None, n_neighbors=5, p=2,\n",
       "                     weights='uniform')"
      ]
     },
     "execution_count": 432,
     "metadata": {},
     "output_type": "execute_result"
    }
   ],
   "source": [
    "knn = KNeighborsClassifier()\n",
    "knn_model_gbm_feature = knn.fit(X_train[features_gbm], y_train)\n",
    "knn_model_gbm_feature"
   ]
  },
  {
   "cell_type": "code",
   "execution_count": 433,
   "metadata": {},
   "outputs": [
    {
     "name": "stdout",
     "output_type": "stream",
     "text": [
      "accuracy list :  [0.625      0.91666667 0.75       0.91666667 0.7826087  0.86956522\n",
      " 0.7826087  0.86956522 0.82608696 0.86956522]\n",
      "result_knn_feature_gbm_accuracy : 0.8208333333333332\n",
      "----\n",
      "F1 list :  [0.57142857 0.9        0.7        0.9        0.76190476 0.82352941\n",
      " 0.70588235 0.86956522 0.75       0.82352941]\n",
      "result_knn_feature_gbm_f1 : 0.7805839727195225\n",
      "----\n",
      "recall list :  [0.6        0.9        0.7        0.9        0.88888889 0.7\n",
      " 0.6        1.         0.6        0.7       ]\n",
      "result_knn_feature_gbm_recall : 0.758888888888889\n",
      "----\n",
      "precision list :  [0.54545455 0.9        0.7        0.9        0.66666667 1.\n",
      " 0.85714286 0.76923077 1.         1.        ]\n",
      "result_knn_feature_gbm_precision : 0.8338494838494839\n",
      "----\n"
     ]
    }
   ],
   "source": [
    "#Accuracy\n",
    "\n",
    "print(\"accuracy list : \", cross_val_score(knn_model_gbm_feature,X[features_gbm],y,cv=10 , scoring=scores[0]))\n",
    "result_knn_feature_gbm_accuracy = cross_val_score(knn_model_gbm_feature,X[features_gbm],y,cv=10, scoring=scores[0]).mean()\n",
    "print(\"result_knn_feature_gbm_accuracy :\" , result_knn_feature_gbm_accuracy)\n",
    "print(\"----\")\n",
    "\n",
    "# F1\n",
    "\n",
    "print(\"F1 list : \", cross_val_score(knn_model_gbm_feature,X[features_gbm],y,cv=10 , scoring=scores[1]))\n",
    "result_knn_feature_gbm_f1 = cross_val_score(knn_model_gbm_feature,X[features_gbm],y,cv=10, scoring=scores[1]).mean()\n",
    "print(\"result_knn_feature_gbm_f1 :\", result_knn_feature_gbm_f1)\n",
    "print(\"----\")\n",
    "\n",
    "# recall\n",
    "\n",
    "print(\"recall list : \", cross_val_score(knn_model_gbm_feature,X[features_gbm],y,cv=10 , scoring=scores[2]))\n",
    "result_knn_feature_gbm_recall = cross_val_score(knn_model_gbm_feature,X[features_gbm],y,cv=10, scoring=scores[2]).mean()\n",
    "print(\"result_knn_feature_gbm_recall :\", result_knn_feature_gbm_recall)\n",
    "print(\"----\")\n",
    "\n",
    "# precision\n",
    "\n",
    "print(\"precision list : \", cross_val_score(knn_model_gbm_feature,X[features_gbm],y,cv=10 , scoring=scores[3]))\n",
    "result_knn_feature_gbm_precision = cross_val_score(knn_model_gbm_feature,X[features_gbm],y,cv=10, scoring=scores[3]).mean()\n",
    "print(\"result_knn_feature_gbm_precision :\", result_knn_feature_gbm_precision)\n",
    "print(\"----\")\n",
    "\n"
   ]
  },
  {
   "cell_type": "markdown",
   "metadata": {},
   "source": [
    "4- cart Features ################################################################"
   ]
  },
  {
   "cell_type": "code",
   "execution_count": 239,
   "metadata": {
    "scrolled": true
   },
   "outputs": [
    {
     "data": {
      "text/plain": [
       "KNeighborsClassifier(algorithm='auto', leaf_size=30, metric='minkowski',\n",
       "                     metric_params=None, n_jobs=None, n_neighbors=5, p=2,\n",
       "                     weights='uniform')"
      ]
     },
     "execution_count": 239,
     "metadata": {},
     "output_type": "execute_result"
    }
   ],
   "source": [
    "knn = KNeighborsClassifier()\n",
    "knn_model_cart_feature = knn.fit(X_train[features_cart], y_train)\n",
    "knn_model_cart_feature"
   ]
  },
  {
   "cell_type": "code",
   "execution_count": 434,
   "metadata": {},
   "outputs": [
    {
     "name": "stdout",
     "output_type": "stream",
     "text": [
      "accuracy list :  [0.625      0.91666667 0.75       0.91666667 0.82608696 0.86956522\n",
      " 0.73913043 0.86956522 0.7826087  0.91304348]\n",
      "result_knn_feature_cart_accuracy : 0.8208333333333332\n",
      "----\n",
      "F1 list :  [0.57142857 0.9        0.66666667 0.90909091 0.8        0.82352941\n",
      " 0.625      0.86956522 0.66666667 0.88888889]\n",
      "result_knn_feature_cart_f1 : 0.7720836331897714\n",
      "----\n",
      "recall list :  [0.6        0.9        0.6        1.         0.88888889 0.7\n",
      " 0.5        1.         0.5        0.8       ]\n",
      "result_knn_feature_cart_recall : 0.7488888888888888\n",
      "----\n",
      "precision list :  [0.54545455 0.9        0.75       0.83333333 0.72727273 1.\n",
      " 0.83333333 0.76923077 1.         1.        ]\n",
      "result_knn_feature_cart_precision : 0.8358624708624708\n",
      "----\n"
     ]
    }
   ],
   "source": [
    "#Accuracy\n",
    "\n",
    "print(\"accuracy list : \", cross_val_score(knn_model_cart_feature,X[features_cart],y,cv=10 , scoring=scores[0]))\n",
    "result_knn_feature_cart_accuracy = cross_val_score(knn_model_cart_feature,X[features_cart],y,cv=10, scoring=scores[0]).mean()\n",
    "print(\"result_knn_feature_cart_accuracy :\" , result_knn_feature_cart_accuracy)\n",
    "print(\"----\")\n",
    "\n",
    "# F1\n",
    "\n",
    "print(\"F1 list : \", cross_val_score(knn_model_cart_feature,X[features_cart],y,cv=10 , scoring=scores[1]))\n",
    "result_knn_feature_cart_f1 = cross_val_score(knn_model_cart_feature,X[features_cart],y,cv=10, scoring=scores[1]).mean()\n",
    "print(\"result_knn_feature_cart_f1 :\", result_knn_feature_cart_f1)\n",
    "print(\"----\")\n",
    "\n",
    "# recall\n",
    "\n",
    "print(\"recall list : \", cross_val_score(knn_model_cart_feature,X[features_cart],y,cv=10 , scoring=scores[2]))\n",
    "result_knn_feature_cart_recall = cross_val_score(knn_model_cart_feature,X[features_cart],y,cv=10, scoring=scores[2]).mean()\n",
    "print(\"result_knn_feature_cart_recall :\", result_knn_feature_cart_recall)\n",
    "print(\"----\")\n",
    "\n",
    "# precision\n",
    "\n",
    "print(\"precision list : \", cross_val_score(knn_model_cart_feature,X[features_cart],y,cv=10 , scoring=scores[3]))\n",
    "result_knn_feature_cart_precision = cross_val_score(knn_model_cart_feature,X[features_cart],y,cv=10, scoring=scores[3]).mean()\n",
    "print(\"result_knn_feature_cart_precision :\", result_knn_feature_cart_precision)\n",
    "print(\"----\")\n",
    "\n"
   ]
  },
  {
   "cell_type": "markdown",
   "metadata": {},
   "source": [
    "# 2.Yapay Sinir Ağları (MLP)"
   ]
  },
  {
   "cell_type": "code",
   "execution_count": 435,
   "metadata": {
    "collapsed": true
   },
   "outputs": [],
   "source": [
    "from sklearn.preprocessing import StandardScaler\n",
    "from sklearn.neural_network import MLPClassifier"
   ]
  },
  {
   "cell_type": "code",
   "execution_count": 436,
   "metadata": {
    "collapsed": true
   },
   "outputs": [],
   "source": [
    "scaler = StandardScaler()"
   ]
  },
  {
   "cell_type": "code",
   "execution_count": 439,
   "metadata": {
    "collapsed": true
   },
   "outputs": [],
   "source": [
    "scaler.fit(X_train) # ölçeklendirilme işlemi\n",
    "X_train_scaled = scaler.transform(X_train)\n",
    "X_test_scaled = scaler.transform(X_test)"
   ]
  },
  {
   "cell_type": "code",
   "execution_count": 440,
   "metadata": {
    "collapsed": true
   },
   "outputs": [],
   "source": [
    "y_train = np.nan_to_num(y_train)\n",
    "mlpc = MLPClassifier().fit(X, y)"
   ]
  },
  {
   "cell_type": "code",
   "execution_count": 442,
   "metadata": {},
   "outputs": [
    {
     "name": "stdout",
     "output_type": "stream",
     "text": [
      "accuracy list :  [0.75       0.70833333 0.83333333 0.91666667 0.69565217 0.86956522\n",
      " 0.91304348 0.7826087  0.73913043 0.82608696]\n",
      "result_mlp_accuracy : 0.8336956521739131\n",
      "----\n",
      "F1 list :  [0.63636364 0.85714286 0.8        0.95238095 0.66666667 0.82352941\n",
      " 0.84210526 0.75       0.85714286 0.75      ]\n",
      "result_mlp_f1 : 0.8053485429259423\n",
      "----\n",
      "recall list :  [0.7        1.         0.7        0.8        0.44444444 0.6\n",
      " 0.6        1.         0.9        0.7       ]\n",
      "result_mlp_recall: 0.85\n",
      "----\n",
      "precision list :  [0.61538462 1.         0.63636364 0.90909091 1.         1.\n",
      " 0.88888889 0.69230769 0.8        1.        ]\n",
      "result_mlp_precision : 0.8448917748917749\n",
      "----\n"
     ]
    }
   ],
   "source": [
    "#Accuracy\n",
    "\n",
    "print(\"accuracy list : \",cross_val_score(mlpc,X,y,cv=10, scoring=scores[0]))\n",
    "result_mlp_accuracy = cross_val_score(mlpc,X,y,cv=10, scoring=scores[0]).mean()\n",
    "print(\"result_mlp_accuracy :\" , result_mlp_accuracy)\n",
    "print(\"----\")\n",
    "\n",
    "# F1\n",
    "\n",
    "print(\"F1 list : \",cross_val_score(mlpc,X,y,cv=10, scoring=scores[1]))\n",
    "result_mlp_f1 = cross_val_score(mlpc,X,y,cv=10, scoring=scores[1]).mean()\n",
    "print(\"result_mlp_f1 :\" , result_mlp_f1)\n",
    "print(\"----\")\n",
    "\n",
    "# recall\n",
    "\n",
    "print(\"recall list : \",cross_val_score(mlpc,X,y,cv=10, scoring=scores[2]))\n",
    "result_mlp_recall = cross_val_score(mlpc,X,y,cv=10, scoring=scores[2]).mean()\n",
    "print(\"result_mlp_recall:\" , result_mlp_recall)\n",
    "print(\"----\")\n",
    "\n",
    "# precision\n",
    "\n",
    "print(\"precision list : \",cross_val_score(mlpc,X,y,cv=10, scoring=scores[3]))\n",
    "result_mlp_precision = cross_val_score(mlpc,X,y,cv=10, scoring=scores[3]).mean()\n",
    "print(\"result_mlp_precision :\" , result_mlp_precision)\n",
    "print(\"----\")"
   ]
  },
  {
   "cell_type": "markdown",
   "metadata": {},
   "source": [
    "# 2.Yapay Sinir Ağları (MLP) feature selection"
   ]
  },
  {
   "cell_type": "markdown",
   "metadata": {},
   "source": [
    "1- RF features ################################################################"
   ]
  },
  {
   "cell_type": "code",
   "execution_count": 443,
   "metadata": {
    "collapsed": true
   },
   "outputs": [],
   "source": [
    "y_train = np.nan_to_num(y_train)\n",
    "mlpc = MLPClassifier().fit(X, y)"
   ]
  },
  {
   "cell_type": "code",
   "execution_count": 444,
   "metadata": {},
   "outputs": [
    {
     "name": "stdout",
     "output_type": "stream",
     "text": [
      "accuracy list :  [0.66666667 1.         0.79166667 0.95833333 0.7826087  0.86956522\n",
      " 0.86956522 0.86956522 0.86956522 0.86956522]\n",
      "result_mlp_feature_rf_accuracy : 0.8547101449275363\n",
      "----\n",
      "F1 list :  [0.69565217 1.         0.76190476 0.9        0.77777778 0.75\n",
      " 0.84210526 0.86956522 0.82352941 0.82352941]\n",
      "result_mlp_feature_rf_f1 : 0.8423808669157976\n",
      "----\n",
      "recall list :  [0.6        1.         0.8        1.         0.77777778 0.6\n",
      " 0.8        1.         0.7        0.7       ]\n",
      "result_mlp_feature_rf_recall: 0.8155555555555555\n",
      "----\n",
      "precision list :  [0.61538462 1.         0.8        0.90909091 0.75       1.\n",
      " 0.88888889 0.76923077 1.         1.        ]\n",
      "result_mlp_feature_rf_precision : 0.8732595182595183\n",
      "----\n"
     ]
    }
   ],
   "source": [
    "#Accuracy\n",
    "\n",
    "print(\"accuracy list : \",cross_val_score(mlpc,X[features_random_forrest],y,cv=10, scoring=scores[0]))\n",
    "result_mlp_feature_rf_accuracy = cross_val_score(mlpc,X[features_random_forrest],y,cv=10, scoring=scores[0]).mean()\n",
    "print(\"result_mlp_feature_rf_accuracy :\" , result_mlp_feature_rf_accuracy)\n",
    "print(\"----\")\n",
    "\n",
    "# F1\n",
    "\n",
    "print(\"F1 list : \",cross_val_score(mlpc,X[features_random_forrest],y,cv=10, scoring=scores[1]))\n",
    "result_mlp_feature_rf_f1 = cross_val_score(mlpc,X[features_random_forrest],y,cv=10, scoring=scores[1]).mean()\n",
    "print(\"result_mlp_feature_rf_f1 :\" , result_mlp_feature_rf_f1)\n",
    "print(\"----\")\n",
    "\n",
    "# recall\n",
    "\n",
    "print(\"recall list : \",cross_val_score(mlpc,X[features_random_forrest],y,cv=10, scoring=scores[2]))\n",
    "result_mlp_feature_rf_recall = cross_val_score(mlpc,X[features_random_forrest],y,cv=10, scoring=scores[2]).mean()\n",
    "print(\"result_mlp_feature_rf_recall:\" , result_mlp_feature_rf_recall)\n",
    "print(\"----\")\n",
    "\n",
    "# precision\n",
    "\n",
    "print(\"precision list : \",cross_val_score(mlpc,X[features_random_forrest],y,cv=10, scoring=scores[3]))\n",
    "result_mlp_feature_rf_precision = cross_val_score(mlpc,X[features_random_forrest],y,cv=10, scoring=scores[3]).mean()\n",
    "print(\"result_mlp_feature_rf_precision :\" , result_mlp_feature_rf_precision)\n",
    "print(\"----\")"
   ]
  },
  {
   "cell_type": "markdown",
   "metadata": {},
   "source": [
    "2- Adaboost Features ################################################################\n"
   ]
  },
  {
   "cell_type": "code",
   "execution_count": 445,
   "metadata": {},
   "outputs": [
    {
     "name": "stdout",
     "output_type": "stream",
     "text": [
      "accuracy list :  [0.70833333 0.91666667 0.70833333 0.95833333 0.86956522 0.91304348\n",
      " 0.82608696 0.86956522 0.7826087  0.86956522]\n",
      "result_mlp_feature_adaboost_accuracy : 0.8423913043478259\n",
      "----\n",
      "F1 list :  [0.63636364 0.9        0.58823529 0.95238095 0.85714286 0.94736842\n",
      " 0.70588235 0.85714286 0.6        0.75      ]\n",
      "result_mlp_feature_adaboost_f1 : 0.7681495618842502\n",
      "----\n",
      "recall list :  [0.6 0.9 0.5 1.  1.  0.7 0.6 0.9 0.9 0.6]\n",
      "result_mlp_feature_adaboost_recall: 0.7677777777777778\n",
      "----\n",
      "precision list :  [0.6        0.9        0.71428571 0.90909091 0.85714286 1.\n",
      " 0.85714286 0.81818182 0.66666667 1.        ]\n",
      "result_mlp_feature_adaboost_precision : 0.8056204906204908\n",
      "----\n"
     ]
    }
   ],
   "source": [
    "#Accuracy\n",
    "\n",
    "print(\"accuracy list : \",cross_val_score(mlpc,X[features_adaboost],y,cv=10, scoring=scores[0]))\n",
    "result_mlp_feature_adaboost_accuracy = cross_val_score(mlpc,X[features_adaboost],y,cv=10, scoring=scores[0]).mean()\n",
    "print(\"result_mlp_feature_adaboost_accuracy :\" , result_mlp_feature_adaboost_accuracy)\n",
    "print(\"----\")\n",
    "\n",
    "# F1\n",
    "\n",
    "print(\"F1 list : \",cross_val_score(mlpc,X[features_adaboost],y,cv=10, scoring=scores[1]))\n",
    "result_mlp_feature_adaboost_f1 = cross_val_score(mlpc,X[features_adaboost],y,cv=10, scoring=scores[1]).mean()\n",
    "print(\"result_mlp_feature_adaboost_f1 :\" , result_mlp_feature_adaboost_f1)\n",
    "print(\"----\")\n",
    "\n",
    "# recall\n",
    "\n",
    "print(\"recall list : \",cross_val_score(mlpc,X[features_adaboost],y,cv=10, scoring=scores[2]))\n",
    "result_mlp_feature_adaboost_recall = cross_val_score(mlpc,X[features_adaboost],y,cv=10, scoring=scores[2]).mean()\n",
    "print(\"result_mlp_feature_adaboost_recall:\" , result_mlp_feature_adaboost_recall)\n",
    "print(\"----\")\n",
    "\n",
    "# precision\n",
    "\n",
    "print(\"precision list : \",cross_val_score(mlpc,X[features_adaboost],y,cv=10, scoring=scores[3]))\n",
    "result_mlp_feature_adaboost_precision = cross_val_score(mlpc,X[features_adaboost],y,cv=10, scoring=scores[3]).mean()\n",
    "print(\"result_mlp_feature_adaboost_precision :\" , result_mlp_feature_adaboost_precision)\n",
    "print(\"----\")"
   ]
  },
  {
   "cell_type": "markdown",
   "metadata": {},
   "source": [
    "3- GBM Features ################################################################"
   ]
  },
  {
   "cell_type": "code",
   "execution_count": 446,
   "metadata": {},
   "outputs": [
    {
     "name": "stdout",
     "output_type": "stream",
     "text": [
      "accuracy list :  [0.75       0.91666667 0.70833333 0.95833333 0.82608696 1.\n",
      " 0.86956522 0.86956522 0.86956522 0.86956522]\n",
      "result_mlp_feature_gbm_accuracy : 0.8548913043478261\n",
      "----\n",
      "F1 list :  [0.69565217 0.94736842 0.58823529 0.95238095 0.85714286 1.\n",
      " 0.84210526 0.86956522 0.77777778 0.82352941]\n",
      "result_mlp_feature_gbm_f1 : 0.828983488132095\n",
      "----\n",
      "recall list :  [0.8 0.9 0.5 1.  1.  0.7 0.8 0.9 0.6 0.8]\n",
      "result_mlp_feature_gbm_recall: 0.8300000000000001\n",
      "----\n",
      "precision list :  [0.6        0.90909091 0.71428571 0.90909091 0.75       1.\n",
      " 0.9        0.71428571 0.88888889 1.        ]\n",
      "result_mlp_feature_gbm_precision : 0.8648629148629148\n",
      "----\n"
     ]
    }
   ],
   "source": [
    "#Accuracy\n",
    "\n",
    "print(\"accuracy list : \",cross_val_score(mlpc,X[features_gbm],y,cv=10, scoring=scores[0]))\n",
    "result_mlp_feature_gbm_accuracy = cross_val_score(mlpc,X[features_gbm],y,cv=10, scoring=scores[0]).mean()\n",
    "print(\"result_mlp_feature_gbm_accuracy :\" , result_mlp_feature_gbm_accuracy)\n",
    "print(\"----\")\n",
    "\n",
    "# F1\n",
    "\n",
    "print(\"F1 list : \",cross_val_score(mlpc,X[features_gbm],y,cv=10, scoring=scores[1]))\n",
    "result_mlp_feature_gbm_f1 = cross_val_score(mlpc,X[features_gbm],y,cv=10, scoring=scores[1]).mean()\n",
    "print(\"result_mlp_feature_gbm_f1 :\" , result_mlp_feature_gbm_f1)\n",
    "print(\"----\")\n",
    "\n",
    "# recall\n",
    "\n",
    "print(\"recall list : \",cross_val_score(mlpc,X[features_gbm],y,cv=10, scoring=scores[2]))\n",
    "result_mlp_feature_gbm_recall = cross_val_score(mlpc,X[features_gbm],y,cv=10, scoring=scores[2]).mean()\n",
    "print(\"result_mlp_feature_gbm_recall:\" , result_mlp_feature_gbm_recall)\n",
    "print(\"----\")\n",
    "\n",
    "# precision\n",
    "\n",
    "print(\"precision list : \",cross_val_score(mlpc,X[features_gbm],y,cv=10, scoring=scores[3]))\n",
    "result_mlp_feature_gbm_precision = cross_val_score(mlpc,X[features_gbm],y,cv=10, scoring=scores[3]).mean()\n",
    "print(\"result_mlp_feature_gbm_precision :\" , result_mlp_feature_gbm_precision)\n",
    "print(\"----\")"
   ]
  },
  {
   "cell_type": "markdown",
   "metadata": {},
   "source": [
    "4- cart Features ################################################################"
   ]
  },
  {
   "cell_type": "code",
   "execution_count": 447,
   "metadata": {},
   "outputs": [
    {
     "name": "stdout",
     "output_type": "stream",
     "text": [
      "accuracy list :  [0.70833333 0.95833333 0.75       0.91666667 0.86956522 0.86956522\n",
      " 0.73913043 0.82608696 0.95652174 0.95652174]\n",
      "result_mlp_feature_cart_accuracy : 0.8333333333333333\n",
      "----\n",
      "F1 list :  [0.66666667 0.9        0.6        0.90909091 0.9        0.82352941\n",
      " 0.70588235 0.81818182 0.82352941 0.82352941]\n",
      "result_mlp_feature_cart_f1 : 0.8072000187634861\n",
      "----\n",
      "recall list :  [0.7 1.  0.6 1.  1.  0.6 0.6 0.9 0.7 0.7]\n",
      "result_mlp_feature_cart_recall: 0.77\n",
      "----\n",
      "precision list :  [0.6        0.9        0.85714286 0.9        0.81818182 1.\n",
      " 0.85714286 0.71428571 1.         1.        ]\n",
      "result_mlp_feature_cart_precision : 0.8492657342657342\n",
      "----\n"
     ]
    }
   ],
   "source": [
    "#Accuracy\n",
    "\n",
    "print(\"accuracy list : \",cross_val_score(mlpc,X[features_cart],y,cv=10, scoring=scores[0]))\n",
    "result_mlp_feature_cart_accuracy = cross_val_score(mlpc,X[features_cart],y,cv=10, scoring=scores[0]).mean()\n",
    "print(\"result_mlp_feature_cart_accuracy :\" , result_mlp_feature_cart_accuracy)\n",
    "print(\"----\")\n",
    "\n",
    "# F1\n",
    "\n",
    "print(\"F1 list : \",cross_val_score(mlpc,X[features_cart],y,cv=10, scoring=scores[1]))\n",
    "result_mlp_feature_cart_f1 = cross_val_score(mlpc,X[features_cart],y,cv=10, scoring=scores[1]).mean()\n",
    "print(\"result_mlp_feature_cart_f1 :\" , result_mlp_feature_cart_f1)\n",
    "print(\"----\")\n",
    "\n",
    "# recall\n",
    "\n",
    "print(\"recall list : \",cross_val_score(mlpc,X[features_cart],y,cv=10, scoring=scores[2]))\n",
    "result_mlp_feature_cart_recall = cross_val_score(mlpc,X[features_cart],y,cv=10, scoring=scores[2]).mean()\n",
    "print(\"result_mlp_feature_cart_recall:\" , result_mlp_feature_cart_recall)\n",
    "print(\"----\")\n",
    "\n",
    "# precision\n",
    "\n",
    "print(\"precision list : \",cross_val_score(mlpc,X[features_cart],y,cv=10, scoring=scores[3]))\n",
    "result_mlp_feature_cart_precision = cross_val_score(mlpc,X[features_cart],y,cv=10, scoring=scores[3]).mean()\n",
    "print(\"result_mlp_feature_cart_precision :\" , result_mlp_feature_cart_precision)\n",
    "print(\"----\")"
   ]
  },
  {
   "cell_type": "markdown",
   "metadata": {},
   "source": [
    "# 3.Random Forests (RF)"
   ]
  },
  {
   "cell_type": "code",
   "execution_count": 540,
   "metadata": {
    "collapsed": true
   },
   "outputs": [],
   "source": [
    "from sklearn.ensemble import RandomForestClassifier"
   ]
  },
  {
   "cell_type": "code",
   "execution_count": 543,
   "metadata": {
    "collapsed": true
   },
   "outputs": [],
   "source": [
    "rf_model = RandomForestClassifier()"
   ]
  },
  {
   "cell_type": "code",
   "execution_count": 544,
   "metadata": {},
   "outputs": [
    {
     "name": "stdout",
     "output_type": "stream",
     "text": [
      "accuracy list :  [0.79166667 1.         0.79166667 0.91666667 0.73913043 0.95652174\n",
      " 0.91304348 0.86956522 0.91304348 0.91304348]\n",
      "result_rf_accuracy : 0.8722826086956521\n",
      "----\n",
      "F1 list :  [0.72727273 1.         0.69565217 0.95238095 0.57142857 0.94736842\n",
      " 0.9        0.83333333 0.94736842 0.88888889]\n",
      "result_rf_f1 : 0.8511468724512203\n",
      "----\n",
      "recall list :  [0.8        1.         0.8        1.         0.44444444 0.9\n",
      " 0.9        1.         0.8        0.8       ]\n",
      "result_rf_recall: 0.8344444444444445\n",
      "----\n",
      "precision list :  [0.66666667 1.         0.66666667 0.9        0.8        1.\n",
      " 0.9        0.76923077 1.         1.        ]\n",
      "result_rf_precision : 0.8600543900543901\n",
      "----\n"
     ]
    }
   ],
   "source": [
    "#Accuracy\n",
    "\n",
    "print(\"accuracy list : \",cross_val_score(rf_model,X,y,cv=10, scoring=scores[0]))\n",
    "result_rf_accuracy = cross_val_score(rf_model,X,y,cv=10, scoring=scores[0]).mean()\n",
    "print(\"result_rf_accuracy :\" , result_rf_accuracy)\n",
    "print(\"----\")\n",
    "\n",
    "# F1\n",
    "\n",
    "print(\"F1 list : \",cross_val_score(rf_model,X,y,cv=10, scoring=scores[1]))\n",
    "result_rf_f1 = cross_val_score(rf_model,X,y,cv=10, scoring=scores[1]).mean()\n",
    "print(\"result_rf_f1 :\" , result_rf_f1)\n",
    "print(\"----\")\n",
    "\n",
    "# recall\n",
    "\n",
    "print(\"recall list : \",cross_val_score(rf_model,X,y,cv=10, scoring=scores[2]))\n",
    "result_rf_recall = cross_val_score(rf_model,X,y,cv=10, scoring=scores[2]).mean()\n",
    "print(\"result_rf_recall:\" , result_rf_recall)\n",
    "print(\"----\")\n",
    "\n",
    "# precision\n",
    "\n",
    "print(\"precision list : \",cross_val_score(rf_model,X,y,cv=10, scoring=scores[3]))\n",
    "result_rf_precision = cross_val_score(rf_model,X,y,cv=10, scoring=scores[3]).mean()\n",
    "print(\"result_rf_precision :\" , result_rf_precision)\n",
    "print(\"----\")"
   ]
  },
  {
   "cell_type": "code",
   "execution_count": null,
   "metadata": {
    "collapsed": true
   },
   "outputs": [],
   "source": []
  },
  {
   "cell_type": "markdown",
   "metadata": {},
   "source": [
    "# 3.Random Forests feature selection"
   ]
  },
  {
   "cell_type": "markdown",
   "metadata": {},
   "source": [
    "1- RF features ################################################################"
   ]
  },
  {
   "cell_type": "code",
   "execution_count": 536,
   "metadata": {
    "scrolled": true
   },
   "outputs": [
    {
     "name": "stdout",
     "output_type": "stream",
     "text": [
      "accuracy list :  [0.75       1.         0.66666667 0.91666667 0.73913043 1.\n",
      " 0.95652174 0.91304348 0.82608696 1.        ]\n",
      "result_rf_feature_rf_accuracy : 0.8768115942028984\n",
      "----\n",
      "F1 list :  [0.72727273 0.95238095 0.63636364 0.9        0.53333333 1.\n",
      " 0.9        0.90909091 0.77777778 1.        ]\n",
      "result_rf_feature_rf_f1 : 0.8469302042986253\n",
      "----\n",
      "recall list :  [0.8        1.         0.7        0.9        0.44444444 1.\n",
      " 0.9        1.         0.6        1.        ]\n",
      "result_rf_feature_rf_recall: 0.8244444444444443\n",
      "----\n",
      "precision list :  [0.66666667 1.         0.54545455 0.9        0.8        1.\n",
      " 1.         0.83333333 0.875      1.        ]\n",
      "result_rf_feature_rf_precision : 0.8690384615384616\n",
      "----\n"
     ]
    }
   ],
   "source": [
    "#Accuracy\n",
    "\n",
    "print(\"accuracy list : \",cross_val_score(rf_model,X[features_random_forrest],y,cv=10, scoring=scores[0]))\n",
    "result_rf_feature_rf_accuracy = cross_val_score(rf_model,X[features_random_forrest],y,cv=10, scoring=scores[0]).mean()\n",
    "print(\"result_rf_feature_rf_accuracy :\" , result_rf_feature_rf_accuracy)\n",
    "print(\"----\")\n",
    "\n",
    "# F1\n",
    "\n",
    "print(\"F1 list : \",cross_val_score(rf_model,X[features_random_forrest],y,cv=10, scoring=scores[1]))\n",
    "result_rf_feature_rf_f1 = cross_val_score(rf_model,X[features_random_forrest],y,cv=10, scoring=scores[1]).mean()\n",
    "print(\"result_rf_feature_rf_f1 :\" , result_rf_feature_rf_f1)\n",
    "print(\"----\")\n",
    "\n",
    "# recall\n",
    "\n",
    "print(\"recall list : \",cross_val_score(rf_model,X[features_random_forrest],y,cv=10, scoring=scores[2]))\n",
    "result_rf_feature_rf_recall = cross_val_score(rf_model,X[features_random_forrest],y,cv=10, scoring=scores[2]).mean()\n",
    "print(\"result_rf_feature_rf_recall:\" , result_rf_feature_rf_recall)\n",
    "print(\"----\")\n",
    "\n",
    "# precision\n",
    "\n",
    "print(\"precision list : \",cross_val_score(rf_model,X[features_random_forrest],y,cv=10, scoring=scores[3]))\n",
    "result_rf_feature_rf_precision = cross_val_score(rf_model,X[features_random_forrest],y,cv=10, scoring=scores[3]).mean()\n",
    "print(\"result_rf_feature_rf_precision :\" , result_rf_feature_rf_precision)\n",
    "print(\"----\")"
   ]
  },
  {
   "cell_type": "markdown",
   "metadata": {},
   "source": [
    "2- Adaboost Features ################################################################"
   ]
  },
  {
   "cell_type": "code",
   "execution_count": 456,
   "metadata": {},
   "outputs": [
    {
     "name": "stdout",
     "output_type": "stream",
     "text": [
      "accuracy list :  [0.75       1.         0.625      0.91666667 0.73913043 1.\n",
      " 1.         0.91304348 0.82608696 1.        ]\n",
      "result_rf_features_adaboost_accuracy : 0.8853260869565217\n",
      "----\n",
      "F1 list :  [0.81818182 1.         0.6        0.95238095 0.625      1.\n",
      " 1.         0.90909091 0.75       1.        ]\n",
      "result_rf_features_adaboost_f1 : 0.8545995670995671\n",
      "----\n",
      "recall list :  [0.8        1.         0.6        0.9        0.55555556 1.\n",
      " 1.         1.         0.6        1.        ]\n",
      "result_rf_features_adaboost_recall: 0.8455555555555556\n",
      "----\n",
      "precision list :  [0.66666667 1.         0.6        0.9        0.71428571 1.\n",
      " 1.         0.90909091 1.         1.        ]\n",
      "result_rf_features_adaboost_precision : 0.8896969696969699\n",
      "----\n"
     ]
    }
   ],
   "source": [
    "#Accuracy\n",
    "\n",
    "print(\"accuracy list : \",cross_val_score(rf_model,X[features_adaboost],y,cv=10, scoring=scores[0]))\n",
    "result_rf_features_adaboost_accuracy = cross_val_score(rf_model,X[features_adaboost],y,cv=10, scoring=scores[0]).mean()\n",
    "print(\"result_rf_features_adaboost_accuracy :\" , result_rf_features_adaboost_accuracy)\n",
    "print(\"----\")\n",
    "\n",
    "# F1\n",
    "\n",
    "print(\"F1 list : \",cross_val_score(rf_model,X[features_adaboost],y,cv=10, scoring=scores[1]))\n",
    "result_rf_features_adaboost_f1 = cross_val_score(rf_model,X[features_adaboost],y,cv=10, scoring=scores[1]).mean()\n",
    "print(\"result_rf_features_adaboost_f1 :\" , result_rf_features_adaboost_f1)\n",
    "print(\"----\")\n",
    "\n",
    "# recall\n",
    "\n",
    "print(\"recall list : \",cross_val_score(rf_model,X[features_adaboost],y,cv=10, scoring=scores[2]))\n",
    "result_rf_features_adaboost_recall = cross_val_score(rf_model,X[features_adaboost],y,cv=10, scoring=scores[2]).mean()\n",
    "print(\"result_rf_features_adaboost_recall:\" , result_rf_features_adaboost_recall)\n",
    "print(\"----\")\n",
    "\n",
    "# precision\n",
    "\n",
    "print(\"precision list : \",cross_val_score(rf_model,X[features_adaboost],y,cv=10, scoring=scores[3]))\n",
    "result_rf_features_adaboost_precision = cross_val_score(rf_model,X[features_adaboost],y,cv=10, scoring=scores[3]).mean()\n",
    "print(\"result_rf_features_adaboost_precision :\" , result_rf_features_adaboost_precision)\n",
    "print(\"----\")"
   ]
  },
  {
   "cell_type": "markdown",
   "metadata": {},
   "source": [
    "3- GBM Features ################################################################"
   ]
  },
  {
   "cell_type": "code",
   "execution_count": 461,
   "metadata": {},
   "outputs": [
    {
     "name": "stdout",
     "output_type": "stream",
     "text": [
      "accuracy list :  [0.875      0.95833333 0.625      0.91666667 0.60869565 1.\n",
      " 1.         0.86956522 0.73913043 1.        ]\n",
      "result_rf_features_gbm_accuracy : 0.8509057971014492\n",
      "----\n",
      "F1 list :  [0.7826087  0.95238095 0.57142857 0.9        0.5        1.\n",
      " 1.         0.86956522 0.625      1.        ]\n",
      "result_rf_features_gbm_f1 : 0.8127898550724637\n",
      "----\n",
      "recall list :  [0.9        1.         0.6        0.9        0.33333333 1.\n",
      " 1.         1.         0.5        1.        ]\n",
      "result_rf_features_gbm_recall: 0.8133333333333332\n",
      "----\n",
      "precision list :  [0.69230769 0.90909091 0.6        0.9        0.5        1.\n",
      " 1.         0.76923077 0.83333333 1.        ]\n",
      "result_rf_features_gbm_precision : 0.8178321678321676\n",
      "----\n"
     ]
    }
   ],
   "source": [
    "#Accuracy\n",
    "\n",
    "print(\"accuracy list : \",cross_val_score(rf_model,X[features_gbm],y,cv=10, scoring=scores[0]))\n",
    "result_rf_features_gbm_accuracy = cross_val_score(rf_model,X[features_gbm],y,cv=10, scoring=scores[0]).mean()\n",
    "print(\"result_rf_features_gbm_accuracy :\" , result_rf_features_gbm_accuracy)\n",
    "print(\"----\")\n",
    "\n",
    "# F1\n",
    "\n",
    "print(\"F1 list : \",cross_val_score(rf_model,X[features_gbm],y,cv=10, scoring=scores[1]))\n",
    "result_rf_features_gbm_f1 = cross_val_score(rf_model,X[features_gbm],y,cv=10, scoring=scores[1]).mean()\n",
    "print(\"result_rf_features_gbm_f1 :\" , result_rf_features_gbm_f1)\n",
    "print(\"----\")\n",
    "\n",
    "# recall\n",
    "\n",
    "print(\"recall list : \",cross_val_score(rf_model,X[features_gbm],y,cv=10, scoring=scores[2]))\n",
    "result_rf_features_gbm_recall = cross_val_score(rf_model,X[features_gbm],y,cv=10, scoring=scores[2]).mean()\n",
    "print(\"result_rf_features_gbm_recall:\" , result_rf_features_gbm_recall)\n",
    "print(\"----\")\n",
    "\n",
    "# precision\n",
    "\n",
    "print(\"precision list : \",cross_val_score(rf_model,X[features_gbm],y,cv=10, scoring=scores[3]))\n",
    "result_rf_features_gbm_precision = cross_val_score(rf_model,X[features_gbm],y,cv=10, scoring=scores[3]).mean()\n",
    "print(\"result_rf_features_gbm_precision :\" , result_rf_features_gbm_precision)\n",
    "print(\"----\")"
   ]
  },
  {
   "cell_type": "markdown",
   "metadata": {},
   "source": [
    "4- cart Features ################################################################"
   ]
  },
  {
   "cell_type": "code",
   "execution_count": 465,
   "metadata": {},
   "outputs": [
    {
     "name": "stdout",
     "output_type": "stream",
     "text": [
      "accuracy list :  [0.75       1.         0.625      0.91666667 0.82608696 1.\n",
      " 0.95652174 0.82608696 0.86956522 1.        ]\n",
      "result_rf_features_cart_accuracy : 0.8682971014492754\n",
      "----\n",
      "F1 list :  [0.72727273 1.         0.57142857 0.9        0.70588235 0.94736842\n",
      " 0.95238095 0.8        0.82352941 1.        ]\n",
      "result_rf_features_cart_f1 : 0.8491414141414142\n",
      "----\n",
      "recall list :  [0.7        1.         0.6        0.9        0.88888889 0.9\n",
      " 1.         0.8        0.7        1.        ]\n",
      "result_rf_features_cart_recall: 0.8588888888888888\n",
      "----\n",
      "precision list :  [0.66666667 1.         0.58333333 0.9        0.72727273 1.\n",
      " 0.90909091 0.8        1.         1.        ]\n",
      "result_rf_features_cart_precision : 0.8621212121212121\n",
      "----\n"
     ]
    }
   ],
   "source": [
    "#Accuracy\n",
    "\n",
    "print(\"accuracy list : \",cross_val_score(rf_model,X[features_cart],y,cv=10, scoring=scores[0]))\n",
    "result_rf_features_cart_accuracy = cross_val_score(rf_model,X[features_cart],y,cv=10, scoring=scores[0]).mean()\n",
    "print(\"result_rf_features_cart_accuracy :\" , result_rf_features_cart_accuracy)\n",
    "print(\"----\")\n",
    "\n",
    "# F1\n",
    "\n",
    "print(\"F1 list : \",cross_val_score(rf_model,X[features_cart],y,cv=10, scoring=scores[1]))\n",
    "result_rf_features_cart_f1 = cross_val_score(rf_model,X[features_cart],y,cv=10, scoring=scores[1]).mean()\n",
    "print(\"result_rf_features_cart_f1 :\" , result_rf_features_cart_f1)\n",
    "print(\"----\")\n",
    "\n",
    "# recall\n",
    "\n",
    "print(\"recall list : \",cross_val_score(rf_model,X[features_cart],y,cv=10, scoring=scores[2]))\n",
    "result_rf_features_cart_recall = cross_val_score(rf_model,X[features_cart],y,cv=10, scoring=scores[2]).mean()\n",
    "print(\"result_rf_features_cart_recall:\" , result_rf_features_cart_recall)\n",
    "print(\"----\")\n",
    "\n",
    "# precision\n",
    "\n",
    "print(\"precision list : \",cross_val_score(rf_model,X[features_cart],y,cv=10, scoring=scores[3]))\n",
    "result_rf_features_cart_precision = cross_val_score(rf_model,X[features_cart],y,cv=10, scoring=scores[3]).mean()\n",
    "print(\"result_rf_features_cart_precision :\" , result_rf_features_cart_precision)\n",
    "print(\"----\")"
   ]
  },
  {
   "cell_type": "markdown",
   "metadata": {},
   "source": [
    "# 4.Gradient Boosting Machines"
   ]
  },
  {
   "cell_type": "code",
   "execution_count": 466,
   "metadata": {
    "collapsed": true
   },
   "outputs": [],
   "source": [
    "gbm_model = GradientBoostingClassifier()"
   ]
  },
  {
   "cell_type": "code",
   "execution_count": 471,
   "metadata": {
    "scrolled": true
   },
   "outputs": [
    {
     "name": "stdout",
     "output_type": "stream",
     "text": [
      "accuracy list :  [0.70833333 1.         0.66666667 0.91666667 0.73913043 0.95652174\n",
      " 0.95652174 0.91304348 0.73913043 1.        ]\n",
      "result_gbm_accuracy : 0.8596014492753623\n",
      "----\n",
      "F1 list :  [0.66666667 1.         0.6        0.9        0.57142857 0.94736842\n",
      " 0.95238095 0.90909091 0.625      1.        ]\n",
      "result_gbm_f1 : 0.817193552061973\n",
      "----\n",
      "recall list :  [0.7        1.         0.6        0.9        0.44444444 0.9\n",
      " 1.         1.         0.5        1.        ]\n",
      "result_gbm_recall: 0.8044444444444444\n",
      "----\n",
      "precision list :  [0.63636364 1.         0.6        0.9        0.8        1.\n",
      " 0.90909091 0.83333333 0.83333333 1.        ]\n",
      "result_gbm_precision : 0.8512121212121212\n",
      "----\n"
     ]
    }
   ],
   "source": [
    "#Accuracy\n",
    "\n",
    "print(\"accuracy list : \",cross_val_score(gbm_model,X,y,cv=10, scoring=scores[0]))\n",
    "result_gbm_accuracy = cross_val_score(gbm_model,X,y,cv=10, scoring=scores[0]).mean()\n",
    "print(\"result_gbm_accuracy :\" , result_gbm_accuracy)\n",
    "print(\"----\")\n",
    "\n",
    "# F1\n",
    "\n",
    "print(\"F1 list : \",cross_val_score(gbm_model,X,y,cv=10, scoring=scores[1]))\n",
    "result_gbm_f1 = cross_val_score(gbm_model,X,y,cv=10, scoring=scores[1]).mean()\n",
    "print(\"result_gbm_f1 :\" , result_gbm_f1)\n",
    "print(\"----\")\n",
    "\n",
    "# recall\n",
    "\n",
    "print(\"recall list : \",cross_val_score(gbm_model,X,y,cv=10, scoring=scores[2]))\n",
    "result_gbm_recall = cross_val_score(gbm_model,X,y,cv=10, scoring=scores[2]).mean()\n",
    "print(\"result_gbm_recall:\" , result_gbm_recall)\n",
    "print(\"----\")\n",
    "\n",
    "# precision\n",
    "\n",
    "print(\"precision list : \",cross_val_score(gbm_model,X,y,cv=10, scoring=scores[3]))\n",
    "result_gbm_precision = cross_val_score(gbm_model,X,y,cv=10, scoring=scores[3]).mean()\n",
    "print(\"result_gbm_precision :\" , result_gbm_precision)\n",
    "print(\"----\")"
   ]
  },
  {
   "cell_type": "markdown",
   "metadata": {},
   "source": [
    "# 4.Gradient Boosting Machines Feature Selection"
   ]
  },
  {
   "cell_type": "markdown",
   "metadata": {},
   "source": [
    "1- RF features ################################################################"
   ]
  },
  {
   "cell_type": "code",
   "execution_count": 472,
   "metadata": {},
   "outputs": [
    {
     "name": "stdout",
     "output_type": "stream",
     "text": [
      "accuracy list :  [0.75       0.95833333 0.66666667 0.91666667 0.73913043 0.86956522\n",
      " 0.95652174 0.91304348 0.73913043 1.        ]\n",
      "result_gbm_features_rf__accuracy : 0.8509057971014492\n",
      "----\n",
      "F1 list :  [0.7        0.95238095 0.6        0.9        0.57142857 0.84210526\n",
      " 0.94736842 0.90909091 0.625      1.        ]\n",
      "result_gbm_features_rf__f1 : 0.8047374117110959\n",
      "----\n",
      "recall list :  [0.7        1.         0.6        0.9        0.44444444 0.8\n",
      " 0.9        1.         0.5        1.        ]\n",
      "result_gbm_features_rf__recall: 0.7944444444444445\n",
      "----\n",
      "precision list :  [0.7        0.90909091 0.6        0.9        0.8        0.88888889\n",
      " 1.         0.83333333 0.83333333 1.        ]\n",
      "result_gbm_features_rf__precision : 0.8464646464646464\n",
      "----\n"
     ]
    }
   ],
   "source": [
    "#Accuracy\n",
    "\n",
    "print(\"accuracy list : \",cross_val_score(gbm_model,X[features_random_forrest],y,cv=10, scoring=scores[0]))\n",
    "result_gbm_features_rf__accuracy = cross_val_score(gbm_model,X[features_random_forrest],y,cv=10, scoring=scores[0]).mean()\n",
    "print(\"result_gbm_features_rf__accuracy :\" , result_gbm_features_rf__accuracy)\n",
    "print(\"----\")\n",
    "\n",
    "# F1\n",
    "\n",
    "print(\"F1 list : \",cross_val_score(gbm_model,X[features_random_forrest],y,cv=10, scoring=scores[1]))\n",
    "result_gbm_features_rf__f1 = cross_val_score(gbm_model,X[features_random_forrest],y,cv=10, scoring=scores[1]).mean()\n",
    "print(\"result_gbm_features_rf__f1 :\" , result_gbm_features_rf__f1)\n",
    "print(\"----\")\n",
    "\n",
    "# recall\n",
    "\n",
    "print(\"recall list : \",cross_val_score(gbm_model,X[features_random_forrest],y,cv=10, scoring=scores[2]))\n",
    "result_gbm_features_rf__recall = cross_val_score(gbm_model,X[features_random_forrest],y,cv=10, scoring=scores[2]).mean()\n",
    "print(\"result_gbm_features_rf__recall:\" , result_gbm_features_rf__recall)\n",
    "print(\"----\")\n",
    "\n",
    "# precision\n",
    "\n",
    "print(\"precision list : \",cross_val_score(gbm_model,X[features_random_forrest],y,cv=10, scoring=scores[3]))\n",
    "result_gbm_features_rf__precision = cross_val_score(gbm_model,X[features_random_forrest],y,cv=10, scoring=scores[3]).mean()\n",
    "print(\"result_gbm_features_rf__precision :\" , result_gbm_features_rf__precision)\n",
    "print(\"----\")"
   ]
  },
  {
   "cell_type": "markdown",
   "metadata": {},
   "source": [
    "2- Adaboost Features ################################################################"
   ]
  },
  {
   "cell_type": "code",
   "execution_count": 474,
   "metadata": {},
   "outputs": [
    {
     "name": "stdout",
     "output_type": "stream",
     "text": [
      "accuracy list :  [0.79166667 1.         0.66666667 0.875      0.73913043 1.\n",
      " 1.         0.82608696 0.7826087  1.        ]\n",
      "result_gbm_features_adaboost_accuracy : 0.8681159420289856\n",
      "----\n",
      "F1 list :  [0.73684211 1.         0.6        0.84210526 0.625      1.\n",
      " 1.         0.81818182 0.66666667 1.        ]\n",
      "result_gbm_features_adaboost_f1 : 0.8288795853269537\n",
      "----\n",
      "recall list :  [0.7        1.         0.6        0.8        0.55555556 1.\n",
      " 1.         0.9        0.5        1.        ]\n",
      "result_gbm_features_adaboost_recall: 0.8055555555555556\n",
      "----\n",
      "precision list :  [0.77777778 1.         0.6        0.88888889 0.71428571 1.\n",
      " 1.         0.75       1.         1.        ]\n",
      "result_gbm_features_adaboost_precision : 0.8730952380952381\n",
      "----\n"
     ]
    }
   ],
   "source": [
    "#Accuracy\n",
    "\n",
    "print(\"accuracy list : \",cross_val_score(gbm_model,X[features_adaboost],y,cv=10, scoring=scores[0]))\n",
    "result_gbm_features_adaboost_accuracy = cross_val_score(gbm_model,X[features_adaboost],y,cv=10, scoring=scores[0]).mean()\n",
    "print(\"result_gbm_features_adaboost_accuracy :\" , result_gbm_features_adaboost_accuracy)\n",
    "print(\"----\")\n",
    "\n",
    "# F1\n",
    "\n",
    "print(\"F1 list : \",cross_val_score(gbm_model,X[features_adaboost],y,cv=10, scoring=scores[1]))\n",
    "result_gbm_features_adaboost_f1 = cross_val_score(gbm_model,X[features_adaboost],y,cv=10, scoring=scores[1]).mean()\n",
    "print(\"result_gbm_features_adaboost_f1 :\" , result_gbm_features_adaboost_f1)\n",
    "print(\"----\")\n",
    "\n",
    "# recall\n",
    "\n",
    "print(\"recall list : \",cross_val_score(gbm_model,X[features_adaboost],y,cv=10, scoring=scores[2]))\n",
    "result_gbm_features_adaboost_recall = cross_val_score(gbm_model,X[features_adaboost],y,cv=10, scoring=scores[2]).mean()\n",
    "print(\"result_gbm_features_adaboost_recall:\" , result_gbm_features_adaboost_recall)\n",
    "print(\"----\")\n",
    "\n",
    "# precision\n",
    "\n",
    "print(\"precision list : \",cross_val_score(gbm_model,X[features_adaboost],y,cv=10, scoring=scores[3]))\n",
    "result_gbm_features_adaboost_precision = cross_val_score(gbm_model,X[features_adaboost],y,cv=10, scoring=scores[3]).mean()\n",
    "print(\"result_gbm_features_adaboost_precision :\" , result_gbm_features_adaboost_precision)\n",
    "print(\"----\")"
   ]
  },
  {
   "cell_type": "markdown",
   "metadata": {},
   "source": [
    "3- GBM Features ################################################################"
   ]
  },
  {
   "cell_type": "code",
   "execution_count": 478,
   "metadata": {},
   "outputs": [
    {
     "name": "stdout",
     "output_type": "stream",
     "text": [
      "accuracy list :  [0.875      0.95833333 0.66666667 0.91666667 0.69565217 0.95652174\n",
      " 1.         0.86956522 0.73913043 1.        ]\n",
      "result_gbm_features_gbm_accuracy : 0.8677536231884059\n",
      "----\n",
      "F1 list :  [0.85714286 0.95238095 0.6        0.9        0.53333333 0.95238095\n",
      " 1.         0.85714286 0.625      1.        ]\n",
      "result_gbm_features_gbm_f1 : 0.8277380952380952\n",
      "----\n",
      "recall list :  [0.9        1.         0.6        0.9        0.44444444 1.\n",
      " 1.         0.9        0.5        1.        ]\n",
      "result_gbm_features_gbm_recall: 0.8244444444444443\n",
      "----\n",
      "precision list :  [0.81818182 0.90909091 0.6        0.9        0.66666667 0.90909091\n",
      " 1.         0.81818182 0.83333333 1.        ]\n",
      "result_gbm_features_gbm_precision : 0.8454545454545453\n",
      "----\n"
     ]
    }
   ],
   "source": [
    "#Accuracy\n",
    "\n",
    "print(\"accuracy list : \",cross_val_score(gbm_model,X[features_gbm],y,cv=10, scoring=scores[0]))\n",
    "result_gbm_features_gbm_accuracy = cross_val_score(gbm_model,X[features_gbm],y,cv=10, scoring=scores[0]).mean()\n",
    "print(\"result_gbm_features_gbm_accuracy :\" , result_gbm_features_gbm_accuracy)\n",
    "print(\"----\")\n",
    "\n",
    "# F1\n",
    "\n",
    "print(\"F1 list : \",cross_val_score(gbm_model,X[features_gbm],y,cv=10, scoring=scores[1]))\n",
    "result_gbm_features_gbm_f1 = cross_val_score(gbm_model,X[features_gbm],y,cv=10, scoring=scores[1]).mean()\n",
    "print(\"result_gbm_features_gbm_f1 :\" , result_gbm_features_gbm_f1)\n",
    "print(\"----\")\n",
    "\n",
    "# recall\n",
    "\n",
    "print(\"recall list : \",cross_val_score(gbm_model,X[features_gbm],y,cv=10, scoring=scores[2]))\n",
    "result_gbm_features_gbm_recall = cross_val_score(gbm_model,X[features_gbm],y,cv=10, scoring=scores[2]).mean()\n",
    "print(\"result_gbm_features_gbm_recall:\" , result_gbm_features_gbm_recall)\n",
    "print(\"----\")\n",
    "\n",
    "# precision\n",
    "\n",
    "print(\"precision list : \",cross_val_score(gbm_model,X[features_gbm],y,cv=10, scoring=scores[3]))\n",
    "result_gbm_features_gbm_precision = cross_val_score(gbm_model,X[features_gbm],y,cv=10, scoring=scores[3]).mean()\n",
    "print(\"result_gbm_features_gbm_precision :\" , result_gbm_features_gbm_precision)\n",
    "print(\"----\")\n"
   ]
  },
  {
   "cell_type": "markdown",
   "metadata": {},
   "source": [
    "4- cart Features ################################################################"
   ]
  },
  {
   "cell_type": "code",
   "execution_count": 479,
   "metadata": {},
   "outputs": [
    {
     "name": "stdout",
     "output_type": "stream",
     "text": [
      "accuracy list :  [0.70833333 1.         0.625      0.91666667 0.86956522 0.95652174\n",
      " 0.95652174 0.86956522 0.7826087  1.        ]\n",
      "result_gbm_features_cart_accuracy : 0.872644927536232\n",
      "----\n",
      "F1 list :  [0.66666667 1.         0.57142857 0.9        0.84210526 0.94736842\n",
      " 0.95238095 0.85714286 0.70588235 1.        ]\n",
      "result_gbm_features_cart_f1 : 0.847154651334218\n",
      "----\n",
      "recall list :  [0.7        1.         0.6        0.9        0.88888889 0.9\n",
      " 1.         0.9        0.6        1.        ]\n",
      "result_gbm_features_cart_recall: 0.8488888888888889\n",
      "----\n",
      "precision list :  [0.63636364 1.         0.54545455 0.9        0.8        1.\n",
      " 0.90909091 0.81818182 0.85714286 1.        ]\n",
      "result_gbm_features_cart_precision : 0.8466233766233767\n",
      "----\n"
     ]
    }
   ],
   "source": [
    "#Accuracy\n",
    "\n",
    "print(\"accuracy list : \",cross_val_score(gbm_model,X[features_cart],y,cv=10, scoring=scores[0]))\n",
    "result_gbm_features_cart_accuracy = cross_val_score(gbm_model,X[features_cart],y,cv=10, scoring=scores[0]).mean()\n",
    "print(\"result_gbm_features_cart_accuracy :\" , result_gbm_features_cart_accuracy)\n",
    "print(\"----\")\n",
    "\n",
    "# F1\n",
    "\n",
    "print(\"F1 list : \",cross_val_score(gbm_model,X[features_cart],y,cv=10, scoring=scores[1]))\n",
    "result_gbm_features_cart_f1 = cross_val_score(gbm_model,X[features_cart],y,cv=10, scoring=scores[1]).mean()\n",
    "print(\"result_gbm_features_cart_f1 :\" , result_gbm_features_cart_f1)\n",
    "print(\"----\")\n",
    "\n",
    "# recall\n",
    "\n",
    "print(\"recall list : \",cross_val_score(gbm_model,X[features_cart],y,cv=10, scoring=scores[2]))\n",
    "result_gbm_features_cart_recall = cross_val_score(gbm_model,X[features_cart],y,cv=10, scoring=scores[2]).mean()\n",
    "print(\"result_gbm_features_cart_recall:\" , result_gbm_features_cart_recall)\n",
    "print(\"----\")\n",
    "\n",
    "# precision\n",
    "\n",
    "print(\"precision list : \",cross_val_score(gbm_model,X[features_cart],y,cv=10, scoring=scores[3]))\n",
    "result_gbm_features_cart_precision = cross_val_score(gbm_model,X[features_cart],y,cv=10, scoring=scores[3]).mean()\n",
    "print(\"result_gbm_features_cart_precision :\" , result_gbm_features_cart_precision)\n",
    "print(\"----\")"
   ]
  },
  {
   "cell_type": "markdown",
   "metadata": {},
   "source": [
    "# 5. support vector machine"
   ]
  },
  {
   "cell_type": "code",
   "execution_count": 481,
   "metadata": {
    "collapsed": true
   },
   "outputs": [],
   "source": [
    "from sklearn import svm\n",
    "svm_model = svm.SVC()"
   ]
  },
  {
   "cell_type": "code",
   "execution_count": 483,
   "metadata": {
    "collapsed": true
   },
   "outputs": [],
   "source": [
    "wclf = SVC(kernel='linear', C= 1, class_weight={1: 10})"
   ]
  },
  {
   "cell_type": "code",
   "execution_count": 486,
   "metadata": {
    "scrolled": true
   },
   "outputs": [
    {
     "name": "stdout",
     "output_type": "stream",
     "text": [
      "accuracy list :  [0.70833333 0.875      0.54166667 0.875      0.56521739 0.7826087\n",
      " 0.82608696 0.69565217 0.91304348 0.86956522]\n",
      "result_svm_accuracy : 0.7652173913043478\n",
      "----\n",
      "F1 list :  [0.72       0.86956522 0.59259259 0.85714286 0.5        0.7826087\n",
      " 0.81818182 0.66666667 0.90909091 0.86956522]\n",
      "result_svm_f1 : 0.7585413974109627\n",
      "----\n",
      "recall list :  [0.9        1.         0.8        0.9        0.55555556 0.9\n",
      " 0.9        0.7        1.         1.        ]\n",
      "result_svm_recall: 0.8655555555555555\n",
      "----\n",
      "precision list :  [0.6        0.76923077 0.47058824 0.81818182 0.45454545 0.69230769\n",
      " 0.75       0.63636364 0.83333333 0.76923077]\n",
      "result_svm_precision : 0.6793781708487591\n",
      "----\n"
     ]
    }
   ],
   "source": [
    "#Accuracy\n",
    "\n",
    "print(\"accuracy list : \",cross_val_score(wclf,X,y,cv=10, scoring=scores[0]))\n",
    "result_svm_accuracy = cross_val_score(wclf,X,y,cv=10, scoring=scores[0]).mean()\n",
    "print(\"result_svm_accuracy :\" , result_svm_accuracy)\n",
    "print(\"----\")\n",
    "\n",
    "# F1\n",
    "\n",
    "print(\"F1 list : \",cross_val_score(wclf,X,y,cv=10, scoring=scores[1]))\n",
    "result_svm_f1 = cross_val_score(wclf,X,y,cv=10, scoring=scores[1]).mean()\n",
    "print(\"result_svm_f1 :\" , result_svm_f1)\n",
    "print(\"----\")\n",
    "\n",
    "# recall\n",
    "\n",
    "print(\"recall list : \",cross_val_score(wclf,X,y,cv=10, scoring=scores[2]))\n",
    "result_svm_recall = cross_val_score(wclf,X,y,cv=10, scoring=scores[2]).mean()\n",
    "print(\"result_svm_recall:\" , result_svm_recall)\n",
    "print(\"----\")\n",
    "\n",
    "# precision\n",
    "\n",
    "print(\"precision list : \",cross_val_score(wclf,X,y,cv=10, scoring=scores[3]))\n",
    "result_svm_precision = cross_val_score(wclf,X,y,cv=10, scoring=scores[3]).mean()\n",
    "print(\"result_svm_precision :\" , result_svm_precision)\n",
    "print(\"----\")"
   ]
  },
  {
   "cell_type": "markdown",
   "metadata": {},
   "source": [
    "# 5. support vector machine feature selection"
   ]
  },
  {
   "cell_type": "markdown",
   "metadata": {},
   "source": [
    "1- RF features ################################################################"
   ]
  },
  {
   "cell_type": "code",
   "execution_count": 495,
   "metadata": {},
   "outputs": [
    {
     "name": "stdout",
     "output_type": "stream",
     "text": [
      "accuracy list :  [0.66666667 0.83333333 0.70833333 0.83333333 0.43478261 0.69565217\n",
      " 0.82608696 0.7826087  0.82608696 0.73913043]\n",
      "result_wclf_features_random_forrest_accuracy : 0.7346014492753623\n",
      "----\n",
      "F1 list :  [0.69230769 0.83333333 0.72       0.83333333 0.48       0.72\n",
      " 0.83333333 0.8        0.83333333 0.76923077]\n",
      "result_wclf_features_random_forrest_f1 : 0.7514871794871795\n",
      "----\n",
      "recall list :  [0.9        1.         0.9        1.         0.66666667 0.9\n",
      " 1.         1.         1.         1.        ]\n",
      "result_wclf_features_random_forrest_recall: 0.9366666666666668\n",
      "----\n",
      "precision list :  [0.5625     0.71428571 0.6        0.71428571 0.375      0.6\n",
      " 0.71428571 0.66666667 0.71428571 0.625     ]\n",
      "result_wclf_features_random_forrest_precision : 0.6286309523809523\n",
      "----\n"
     ]
    }
   ],
   "source": [
    "#Accuracy\n",
    "\n",
    "accuracy_list = cross_val_score(wclf,X[features_random_forrest],y,cv=10, scoring=scores[0])\n",
    "\n",
    "print(\"accuracy list : \", accuracy_list)\n",
    "result_wclf_features_random_forrest_accuracy = accuracy_list.mean()\n",
    "print(\"result_wclf_features_random_forrest_accuracy :\" , result_wclf_features_random_forrest_accuracy)\n",
    "print(\"----\")\n",
    "\n",
    "# F1\n",
    "\n",
    "F1_list = cross_val_score(wclf,X[features_random_forrest],y,cv=10, scoring=scores[1])\n",
    "\n",
    "print(\"F1 list : \", F1_list )\n",
    "result_wclf_features_random_forrest_f1 = F1_list.mean()\n",
    "print(\"result_wclf_features_random_forrest_f1 :\" , result_wclf_features_random_forrest_f1)\n",
    "print(\"----\")\n",
    "\n",
    "# recall\n",
    "\n",
    "recall_list = cross_val_score(wclf,X[features_random_forrest],y,cv=10, scoring=scores[2])\n",
    "\n",
    "print(\"recall list : \", recall_list )\n",
    "result_wclf_features_random_forrest_recall = recall_list.mean()\n",
    "print(\"result_wclf_features_random_forrest_recall:\" , result_wclf_features_random_forrest_recall)\n",
    "print(\"----\")\n",
    "\n",
    "# precision\n",
    "\n",
    "precision_list = cross_val_score(wclf,X[features_random_forrest],y,cv=10, scoring=scores[3])\n",
    "\n",
    "print(\"precision list : \", precision_list )\n",
    "result_wclf_features_random_forrest_precision = precision_list.mean()\n",
    "print(\"result_wclf_features_random_forrest_precision :\" , result_wclf_features_random_forrest_precision)\n",
    "print(\"----\")"
   ]
  },
  {
   "cell_type": "markdown",
   "metadata": {},
   "source": [
    "2- Adaboost Features ################################################################"
   ]
  },
  {
   "cell_type": "code",
   "execution_count": 496,
   "metadata": {},
   "outputs": [
    {
     "name": "stdout",
     "output_type": "stream",
     "text": [
      "accuracy list :  [0.70833333 0.70833333 0.54166667 0.66666667 0.52173913 0.52173913\n",
      " 0.7826087  0.82608696 0.73913043 0.65217391]\n",
      "result_wclf_features_adaboost_accuracy : 0.6668478260869566\n",
      "----\n",
      "F1 list :  [0.74074074 0.74074074 0.52173913 0.71428571 0.59259259 0.64516129\n",
      " 0.7826087  0.83333333 0.76923077 0.71428571]\n",
      "result_wclf_features_adaboost_f1 : 0.7054718721619142\n",
      "----\n",
      "recall list :  [1.         1.         0.6        1.         0.88888889 1.\n",
      " 0.9        1.         1.         1.        ]\n",
      "result_wclf_features_adaboost_recall: 0.9388888888888889\n",
      "----\n",
      "precision list :  [0.58823529 0.58823529 0.46153846 0.55555556 0.44444444 0.47619048\n",
      " 0.69230769 0.71428571 0.625      0.55555556]\n",
      "result_wclf_features_adaboost_precision : 0.5701348488113194\n",
      "----\n"
     ]
    }
   ],
   "source": [
    "#Accuracy\n",
    "\n",
    "accuracy_list = cross_val_score(wclf,X[features_adaboost],y,cv=10, scoring=scores[0])\n",
    "\n",
    "print(\"accuracy list : \", accuracy_list)\n",
    "result_wclf_features_adaboost_accuracy = accuracy_list.mean()\n",
    "print(\"result_wclf_features_adaboost_accuracy :\" , result_wclf_features_adaboost_accuracy)\n",
    "print(\"----\")\n",
    "\n",
    "# F1\n",
    "\n",
    "F1_list = cross_val_score(wclf,X[features_adaboost],y,cv=10, scoring=scores[1])\n",
    "\n",
    "print(\"F1 list : \", F1_list )\n",
    "result_wclf_features_adaboost_f1 = F1_list.mean()\n",
    "print(\"result_wclf_features_adaboost_f1 :\" , result_wclf_features_adaboost_f1)\n",
    "print(\"----\")\n",
    "\n",
    "# recall\n",
    "\n",
    "recall_list = cross_val_score(wclf,X[features_adaboost],y,cv=10, scoring=scores[2])\n",
    "\n",
    "print(\"recall list : \", recall_list )\n",
    "result_wclf_features_adaboost_recall = recall_list.mean()\n",
    "print(\"result_wclf_features_adaboost_recall:\" , result_wclf_features_adaboost_recall)\n",
    "print(\"----\")\n",
    "\n",
    "# precision\n",
    "\n",
    "precision_list = cross_val_score(wclf,X[features_adaboost],y,cv=10, scoring=scores[3])\n",
    "\n",
    "print(\"precision list : \", precision_list )\n",
    "result_wclf_features_adaboost_precision = precision_list.mean()\n",
    "print(\"result_wclf_features_adaboost_precision :\" , result_wclf_features_adaboost_precision)\n",
    "print(\"----\")"
   ]
  },
  {
   "cell_type": "markdown",
   "metadata": {},
   "source": [
    "3- GBM Features ################################################################"
   ]
  },
  {
   "cell_type": "code",
   "execution_count": 497,
   "metadata": {},
   "outputs": [
    {
     "name": "stdout",
     "output_type": "stream",
     "text": [
      "accuracy list :  [0.70833333 0.79166667 0.54166667 0.70833333 0.39130435 0.60869565\n",
      " 0.82608696 0.7826087  0.73913043 0.56521739]\n",
      "result_wclf_features_gbm_accuracy : 0.6663043478260869\n",
      "----\n",
      "F1 list :  [0.74074074 0.8        0.52173913 0.74074074 0.5        0.68965517\n",
      " 0.83333333 0.8        0.76923077 0.66666667]\n",
      "result_wclf_features_gbm_f1 : 0.7062106553560826\n",
      "----\n",
      "recall list :  [1.         1.         0.6        1.         0.77777778 1.\n",
      " 1.         1.         1.         1.        ]\n",
      "result_wclf_features_gbm_recall: 0.9377777777777778\n",
      "----\n",
      "precision list :  [0.58823529 0.66666667 0.46153846 0.58823529 0.36842105 0.52631579\n",
      " 0.71428571 0.66666667 0.625      0.5       ]\n",
      "result_wclf_features_gbm_precision : 0.5705364939498067\n",
      "----\n"
     ]
    }
   ],
   "source": [
    "#Accuracy\n",
    "\n",
    "accuracy_list = cross_val_score(wclf,X[features_gbm],y,cv=10, scoring=scores[0])\n",
    "\n",
    "print(\"accuracy list : \", accuracy_list)\n",
    "result_wclf_features_gbm_accuracy = accuracy_list.mean()\n",
    "print(\"result_wclf_features_gbm_accuracy :\" , result_wclf_features_gbm_accuracy)\n",
    "print(\"----\")\n",
    "\n",
    "# F1\n",
    "\n",
    "F1_list = cross_val_score(wclf,X[features_gbm],y,cv=10, scoring=scores[1])\n",
    "\n",
    "print(\"F1 list : \", F1_list )\n",
    "result_wclf_features_gbm_f1 = F1_list.mean()\n",
    "print(\"result_wclf_features_gbm_f1 :\" , result_wclf_features_gbm_f1)\n",
    "print(\"----\")\n",
    "\n",
    "# recall\n",
    "\n",
    "recall_list = cross_val_score(wclf,X[features_gbm],y,cv=10, scoring=scores[2])\n",
    "\n",
    "print(\"recall list : \", recall_list )\n",
    "result_wclf_features_gbm_recall = recall_list.mean()\n",
    "print(\"result_wclf_features_gbm_recall:\" , result_wclf_features_gbm_recall)\n",
    "print(\"----\")\n",
    "\n",
    "# precision\n",
    "\n",
    "precision_list = cross_val_score(wclf,X[features_gbm],y,cv=10, scoring=scores[3])\n",
    "\n",
    "print(\"precision list : \", precision_list )\n",
    "result_wclf_features_gbm_precision = precision_list.mean()\n",
    "print(\"result_wclf_features_gbm_precision :\" , result_wclf_features_gbm_precision)\n",
    "print(\"----\")"
   ]
  },
  {
   "cell_type": "markdown",
   "metadata": {},
   "source": [
    "4- cart Features ################################################################\n",
    "\n",
    "\n"
   ]
  },
  {
   "cell_type": "code",
   "execution_count": 498,
   "metadata": {},
   "outputs": [
    {
     "name": "stdout",
     "output_type": "stream",
     "text": [
      "accuracy list :  [0.75       0.83333333 0.54166667 0.70833333 0.65217391 0.69565217\n",
      " 0.7826087  0.7826087  0.73913043 0.69565217]\n",
      "result_wclf_features_cart_accuracy : 0.7181159420289855\n",
      "----\n",
      "F1 list :  [0.76923077 0.83333333 0.52173913 0.74074074 0.69230769 0.72\n",
      " 0.7826087  0.8        0.76923077 0.74074074]\n",
      "result_wclf_features_cart_f1 : 0.7369931871671003\n",
      "----\n",
      "recall list :  [1.  1.  0.6 1.  1.  0.9 0.9 1.  1.  1. ]\n",
      "result_wclf_features_cart_recall: 0.9400000000000001\n",
      "----\n",
      "precision list :  [0.625      0.71428571 0.46153846 0.58823529 0.52941176 0.6\n",
      " 0.69230769 0.66666667 0.625      0.58823529]\n",
      "result_wclf_features_cart_precision : 0.6090680887739711\n",
      "----\n"
     ]
    }
   ],
   "source": [
    "#Accuracy\n",
    "\n",
    "accuracy_list = cross_val_score(wclf,X[features_cart],y,cv=10, scoring=scores[0])\n",
    "\n",
    "print(\"accuracy list : \", accuracy_list)\n",
    "result_wclf_features_cart_accuracy = accuracy_list.mean()\n",
    "print(\"result_wclf_features_cart_accuracy :\" , result_wclf_features_cart_accuracy)\n",
    "print(\"----\")\n",
    "\n",
    "# F1\n",
    "\n",
    "F1_list = cross_val_score(wclf,X[features_cart],y,cv=10, scoring=scores[1])\n",
    "\n",
    "print(\"F1 list : \", F1_list )\n",
    "result_wclf_features_cart_f1 = F1_list.mean()\n",
    "print(\"result_wclf_features_cart_f1 :\" , result_wclf_features_cart_f1)\n",
    "print(\"----\")\n",
    "\n",
    "# recall\n",
    "\n",
    "recall_list = cross_val_score(wclf,X[features_cart],y,cv=10, scoring=scores[2])\n",
    "\n",
    "print(\"recall list : \", recall_list )\n",
    "result_wclf_features_cart_recall = recall_list.mean()\n",
    "print(\"result_wclf_features_cart_recall:\" , result_wclf_features_cart_recall)\n",
    "print(\"----\")\n",
    "\n",
    "# precision\n",
    "\n",
    "precision_list = cross_val_score(wclf,X[features_cart],y,cv=10, scoring=scores[3])\n",
    "\n",
    "print(\"precision list : \", precision_list )\n",
    "result_wclf_features_cart_precision = precision_list.mean()\n",
    "print(\"result_wclf_features_cart_precision :\" , result_wclf_features_cart_precision)\n",
    "print(\"----\")"
   ]
  },
  {
   "cell_type": "markdown",
   "metadata": {},
   "source": [
    "# 6. XGBoost Model"
   ]
  },
  {
   "cell_type": "code",
   "execution_count": 491,
   "metadata": {
    "collapsed": true
   },
   "outputs": [],
   "source": [
    "xgb_model = XGBClassifier()"
   ]
  },
  {
   "cell_type": "code",
   "execution_count": 492,
   "metadata": {},
   "outputs": [
    {
     "name": "stdout",
     "output_type": "stream",
     "text": [
      "accuracy list :  [0.70833333 1.         0.625      0.91666667 0.73913043 1.\n",
      " 0.95652174 0.91304348 0.86956522 0.95652174]\n",
      "result_xgb_accuracy : 0.8684782608695653\n",
      "----\n",
      "F1 list :  [0.66666667 1.         0.57142857 0.9        0.57142857 1.\n",
      " 0.95238095 0.90909091 0.82352941 0.94736842]\n",
      "result_xgb_f1 : 0.8341893503813008\n",
      "----\n",
      "recall list :  [0.7        1.         0.6        0.9        0.44444444 1.\n",
      " 1.         1.         0.7        0.9       ]\n",
      "result_xgb_recall: 0.8244444444444445\n",
      "----\n",
      "precision list :  [0.63636364 1.         0.54545455 0.9        0.8        1.\n",
      " 0.90909091 0.83333333 1.         1.        ]\n",
      "result_xgb_precision : 0.8624242424242425\n",
      "----\n"
     ]
    }
   ],
   "source": [
    "#Accuracy\n",
    "\n",
    "accuracy_list = cross_val_score(xgb_model,X,y,cv=10, scoring=scores[0])\n",
    "\n",
    "print(\"accuracy list : \",accuracy_list )\n",
    "result_xgb_accuracy = accuracy_list.mean()\n",
    "print(\"result_xgb_accuracy :\" , result_xgb_accuracy)\n",
    "print(\"----\")\n",
    "\n",
    "# F1\n",
    "\n",
    "F1_list = cross_val_score(xgb_model,X,y,cv=10, scoring=scores[1])\n",
    "\n",
    "print(\"F1 list : \", F1_list)\n",
    "result_xgb_f1 = F1_list.mean()\n",
    "print(\"result_xgb_f1 :\" , result_xgb_f1)\n",
    "print(\"----\")\n",
    "\n",
    "# recall\n",
    "\n",
    "recall_list = cross_val_score(xgb_model,X,y,cv=10, scoring=scores[2])\n",
    "\n",
    "print(\"recall list : \",recall_list )\n",
    "result_xgb_recall = recall_list.mean()\n",
    "print(\"result_xgb_recall:\" , result_xgb_recall)\n",
    "print(\"----\")\n",
    "\n",
    "# precision\n",
    "\n",
    "precision_list = cross_val_score(xgb_model,X,y,cv=10, scoring=scores[3])\n",
    "\n",
    "print(\"precision list : \", precision_list )\n",
    "result_xgb_precision = precision_list.mean()\n",
    "print(\"result_xgb_precision :\" , result_xgb_precision)\n",
    "print(\"----\")"
   ]
  },
  {
   "cell_type": "markdown",
   "metadata": {},
   "source": [
    "1- RF features ################################################################"
   ]
  },
  {
   "cell_type": "code",
   "execution_count": 500,
   "metadata": {},
   "outputs": [
    {
     "name": "stdout",
     "output_type": "stream",
     "text": [
      "accuracy list :  [0.75       1.         0.66666667 0.91666667 0.7826087  0.95652174\n",
      " 0.91304348 0.91304348 0.82608696 1.        ]\n",
      "result_xgb_features_random_forrest_accuracy : 0.872463768115942\n",
      "----\n",
      "F1 list :  [0.72727273 1.         0.6        0.9        0.66666667 0.95238095\n",
      " 0.9        0.90909091 0.77777778 1.        ]\n",
      "result_xgb_features_random_forrest_f1 : 0.8433189033189035\n",
      "----\n",
      "recall list :  [0.8        1.         0.6        0.9        0.55555556 1.\n",
      " 0.9        1.         0.7        1.        ]\n",
      "result_xgb_features_random_forrest_recall: 0.8455555555555556\n",
      "----\n",
      "precision list :  [0.66666667 1.         0.6        0.9        0.83333333 0.90909091\n",
      " 0.9        0.83333333 0.875      1.        ]\n",
      "result_xgb_features_random_forrest_precision : 0.8517424242424243\n",
      "----\n"
     ]
    }
   ],
   "source": [
    "#Accuracy\n",
    "\n",
    "accuracy_list = cross_val_score(xgb_model,X[features_random_forrest],y,cv=10, scoring=scores[0])\n",
    "\n",
    "print(\"accuracy list : \", accuracy_list)\n",
    "result_xgb_features_random_forrest_accuracy = accuracy_list.mean()\n",
    "print(\"result_xgb_features_random_forrest_accuracy :\" , result_xgb_features_random_forrest_accuracy)\n",
    "print(\"----\")\n",
    "\n",
    "# F1\n",
    "\n",
    "F1_list = cross_val_score(xgb_model,X[features_random_forrest],y,cv=10, scoring=scores[1])\n",
    "\n",
    "print(\"F1 list : \", F1_list )\n",
    "result_xgb_features_random_forrest_f1 = F1_list.mean()\n",
    "print(\"result_xgb_features_random_forrest_f1 :\" , result_xgb_features_random_forrest_f1)\n",
    "print(\"----\")\n",
    "\n",
    "# recall\n",
    "\n",
    "recall_list = cross_val_score(xgb_model,X[features_random_forrest],y,cv=10, scoring=scores[2])\n",
    "\n",
    "print(\"recall list : \", recall_list )\n",
    "result_xgb_features_random_forrest_recall = recall_list.mean()\n",
    "print(\"result_xgb_features_random_forrest_recall:\" , result_xgb_features_random_forrest_recall)\n",
    "print(\"----\")\n",
    "\n",
    "# precision\n",
    "\n",
    "precision_list = cross_val_score(xgb_model,X[features_random_forrest],y,cv=10, scoring=scores[3])\n",
    "\n",
    "print(\"precision list : \", precision_list )\n",
    "result_xgb_features_random_forrest_precision = precision_list.mean()\n",
    "print(\"result_xgb_features_random_forrest_precision :\" , result_xgb_features_random_forrest_precision)\n",
    "print(\"----\")"
   ]
  },
  {
   "cell_type": "markdown",
   "metadata": {},
   "source": [
    "2- Adaboost Features ################################################################"
   ]
  },
  {
   "cell_type": "code",
   "execution_count": 499,
   "metadata": {},
   "outputs": [
    {
     "name": "stdout",
     "output_type": "stream",
     "text": [
      "accuracy list :  [0.70833333 1.         0.66666667 0.91666667 0.82608696 0.95652174\n",
      " 1.         0.82608696 0.82608696 1.        ]\n",
      "result_xgb_model_features_adaboost_accuracy : 0.872644927536232\n",
      "----\n",
      "F1 list :  [0.66666667 1.         0.6        0.9        0.77777778 0.95238095\n",
      " 1.         0.81818182 0.75       1.        ]\n",
      "result_xgb_model_features_adaboost_f1 : 0.8465007215007215\n",
      "----\n",
      "recall list :  [0.7        1.         0.6        0.9        0.77777778 1.\n",
      " 1.         0.9        0.6        1.        ]\n",
      "result_xgb_model_features_adaboost_recall: 0.8477777777777777\n",
      "----\n",
      "precision list :  [0.63636364 1.         0.6        0.9        0.77777778 0.90909091\n",
      " 1.         0.75       1.         1.        ]\n",
      "result_xgb_model_features_adaboost_precision : 0.8573232323232324\n",
      "----\n"
     ]
    }
   ],
   "source": [
    "#Accuracy\n",
    "\n",
    "accuracy_list = cross_val_score(xgb_model,X[features_adaboost],y,cv=10, scoring=scores[0])\n",
    "\n",
    "print(\"accuracy list : \", accuracy_list)\n",
    "result_xgb_model_features_adaboost_accuracy = accuracy_list.mean()\n",
    "print(\"result_xgb_model_features_adaboost_accuracy :\" , result_xgb_model_features_adaboost_accuracy)\n",
    "print(\"----\")\n",
    "\n",
    "# F1\n",
    "\n",
    "F1_list = cross_val_score(xgb_model,X[features_adaboost],y,cv=10, scoring=scores[1])\n",
    "\n",
    "print(\"F1 list : \", F1_list )\n",
    "result_xgb_model_features_adaboost_f1 = F1_list.mean()\n",
    "print(\"result_xgb_model_features_adaboost_f1 :\" , result_xgb_model_features_adaboost_f1)\n",
    "print(\"----\")\n",
    "\n",
    "# recall\n",
    "\n",
    "recall_list = cross_val_score(xgb_model,X[features_adaboost],y,cv=10, scoring=scores[2])\n",
    "\n",
    "print(\"recall list : \", recall_list )\n",
    "result_xgb_model_features_adaboost_recall = recall_list.mean()\n",
    "print(\"result_xgb_model_features_adaboost_recall:\" , result_xgb_model_features_adaboost_recall)\n",
    "print(\"----\")\n",
    "\n",
    "# precision\n",
    "\n",
    "precision_list = cross_val_score(xgb_model,X[features_adaboost],y,cv=10, scoring=scores[3])\n",
    "\n",
    "print(\"precision list : \", precision_list )\n",
    "result_xgb_model_features_adaboost_precision = precision_list.mean()\n",
    "print(\"result_xgb_model_features_adaboost_precision :\" , result_xgb_model_features_adaboost_precision)\n",
    "print(\"----\")"
   ]
  },
  {
   "cell_type": "markdown",
   "metadata": {},
   "source": [
    "3- GBM Features ################################################################"
   ]
  },
  {
   "cell_type": "code",
   "execution_count": 502,
   "metadata": {},
   "outputs": [
    {
     "name": "stdout",
     "output_type": "stream",
     "text": [
      "accuracy list :  [0.79166667 1.         0.66666667 0.91666667 0.65217391 0.86956522\n",
      " 0.95652174 0.86956522 0.7826087  0.91304348]\n",
      "result_xgb_model_features_gbm_accuracy : 0.8418478260869564\n",
      "----\n",
      "F1 list :  [0.7826087  1.         0.6        0.9        0.42857143 0.86956522\n",
      " 0.94736842 0.86956522 0.70588235 0.90909091]\n",
      "result_xgb_model_features_gbm_f1 : 0.8012652242090927\n",
      "----\n",
      "recall list :  [0.9        1.         0.6        0.9        0.33333333 1.\n",
      " 0.9        1.         0.6        1.        ]\n",
      "result_xgb_model_features_gbm_recall: 0.8233333333333333\n",
      "----\n",
      "precision list :  [0.69230769 1.         0.6        0.9        0.6        0.76923077\n",
      " 1.         0.76923077 0.85714286 0.83333333]\n",
      "result_xgb_model_features_gbm_precision : 0.8021245421245421\n",
      "----\n"
     ]
    }
   ],
   "source": [
    "#Accuracy\n",
    "\n",
    "accuracy_list = cross_val_score(xgb_model,X[features_gbm],y,cv=10, scoring=scores[0])\n",
    "\n",
    "print(\"accuracy list : \", accuracy_list)\n",
    "result_xgb_model_features_gbm_accuracy = accuracy_list.mean()\n",
    "print(\"result_xgb_model_features_gbm_accuracy :\" , result_xgb_model_features_gbm_accuracy)\n",
    "print(\"----\")\n",
    "\n",
    "# F1\n",
    "\n",
    "F1_list = cross_val_score(xgb_model,X[features_gbm],y,cv=10, scoring=scores[1])\n",
    "\n",
    "print(\"F1 list : \", F1_list )\n",
    "result_xgb_model_features_gbm_f1 = F1_list.mean()\n",
    "print(\"result_xgb_model_features_gbm_f1 :\" , result_xgb_model_features_gbm_f1)\n",
    "print(\"----\")\n",
    "\n",
    "# recall\n",
    "\n",
    "recall_list = cross_val_score(xgb_model,X[features_gbm],y,cv=10, scoring=scores[2])\n",
    "\n",
    "print(\"recall list : \", recall_list )\n",
    "result_xgb_model_features_gbm_recall = recall_list.mean()\n",
    "print(\"result_xgb_model_features_gbm_recall:\" , result_xgb_model_features_gbm_recall)\n",
    "print(\"----\")\n",
    "\n",
    "# precision\n",
    "\n",
    "precision_list = cross_val_score(xgb_model,X[features_gbm],y,cv=10, scoring=scores[3])\n",
    "\n",
    "print(\"precision list : \", precision_list )\n",
    "result_xgb_model_features_gbm_precision = precision_list.mean()\n",
    "print(\"result_xgb_model_features_gbm_precision :\" , result_xgb_model_features_gbm_precision)\n",
    "print(\"----\")"
   ]
  },
  {
   "cell_type": "markdown",
   "metadata": {},
   "source": [
    "4- Cart Features ################################################################"
   ]
  },
  {
   "cell_type": "code",
   "execution_count": 503,
   "metadata": {},
   "outputs": [
    {
     "name": "stdout",
     "output_type": "stream",
     "text": [
      "accuracy list :  [0.66666667 1.         0.58333333 0.91666667 0.91304348 1.\n",
      " 0.95652174 0.82608696 0.86956522 1.        ]\n",
      "result_xgb_model_features_cart_accuracy : 0.8731884057971016\n",
      "----\n",
      "F1 list :  [0.6        1.         0.5        0.9        0.9        1.\n",
      " 0.95238095 0.77777778 0.82352941 1.        ]\n",
      "result_xgb_model_features_cart_f1 : 0.8453688141923437\n",
      "----\n",
      "recall list :  [0.6 1.  0.5 0.9 1.  1.  1.  0.7 0.7 1. ]\n",
      "result_xgb_model_features_cart_recall: 0.8400000000000001\n",
      "----\n",
      "precision list :  [0.6        1.         0.5        0.9        0.81818182 1.\n",
      " 0.90909091 0.875      1.         1.        ]\n",
      "result_xgb_model_features_cart_precision : 0.8602272727272726\n",
      "----\n"
     ]
    }
   ],
   "source": [
    "#Accuracy\n",
    "\n",
    "accuracy_list = cross_val_score(xgb_model,X[features_cart],y,cv=10, scoring=scores[0])\n",
    "\n",
    "print(\"accuracy list : \", accuracy_list)\n",
    "result_xgb_model_features_cart_accuracy = accuracy_list.mean()\n",
    "print(\"result_xgb_model_features_cart_accuracy :\" , result_xgb_model_features_cart_accuracy)\n",
    "print(\"----\")\n",
    "\n",
    "# F1\n",
    "\n",
    "F1_list = cross_val_score(xgb_model,X[features_cart],y,cv=10, scoring=scores[1])\n",
    "\n",
    "print(\"F1 list : \", F1_list )\n",
    "result_xgb_model_features_cart_f1 = F1_list.mean()\n",
    "print(\"result_xgb_model_features_cart_f1 :\" , result_xgb_model_features_cart_f1)\n",
    "print(\"----\")\n",
    "\n",
    "# recall\n",
    "\n",
    "recall_list = cross_val_score(xgb_model,X[features_cart],y,cv=10, scoring=scores[2])\n",
    "\n",
    "print(\"recall list : \", recall_list )\n",
    "result_xgb_model_features_cart_recall = recall_list.mean()\n",
    "print(\"result_xgb_model_features_cart_recall:\" , result_xgb_model_features_cart_recall)\n",
    "print(\"----\")\n",
    "\n",
    "# precision\n",
    "\n",
    "precision_list = cross_val_score(xgb_model,X[features_cart],y,cv=10, scoring=scores[3])\n",
    "\n",
    "print(\"precision list : \", precision_list )\n",
    "result_xgb_model_features_cart_precision = precision_list.mean()\n",
    "print(\"result_xgb_model_features_cart_precision :\" , result_xgb_model_features_cart_precision)\n",
    "print(\"----\")"
   ]
  },
  {
   "cell_type": "markdown",
   "metadata": {},
   "source": [
    "# Comparasion"
   ]
  },
  {
   "cell_type": "code",
   "execution_count": 10,
   "metadata": {},
   "outputs": [
    {
     "data": {
      "text/plain": [
       "['.ipynb_checkpoints',\n",
       " 'adaboo.docx',\n",
       " 'Adaboost.png',\n",
       " 'AFPR_scores.jpg',\n",
       " 'all_diagram MLP.jpg',\n",
       " 'alparslan.txt',\n",
       " 'alparslan_hoca_calisma_1.ipynb',\n",
       " 'Alpaslanhoca_2_Full_KNN.ipynb',\n",
       " 'Alpaslanhoca_3_matched_vs_feature_selection.ipynb',\n",
       " 'company_list.xls',\n",
       " 'Desiging hybrid machine learning models for forecasting auditors’ opinion.docx',\n",
       " 'df_kumeler_result.xlsx',\n",
       " 'elbow.png',\n",
       " 'Formulas.docx',\n",
       " 'Formulas_1.docx',\n",
       " 'hybrid.JPG',\n",
       " 'Hybrid_models.jpg',\n",
       " 'indir.png',\n",
       " 'k_fold.jpg',\n",
       " 'Literatür Özet Tablo.xlsx',\n",
       " 'makale',\n",
       " 'makale_sonuclari.xlsx',\n",
       " 'MLP.png',\n",
       " 'neuron.jpg',\n",
       " 'neuron.png',\n",
       " 'Oranlar.xlsx',\n",
       " 'system_desgin.JPG',\n",
       " 'system_desgin_2.JPG',\n",
       " 'Type.png',\n",
       " 'Veri-Matched.xlsx',\n",
       " 'Veri-Unbalanced.xlsx',\n",
       " '~$makale_sonuclari.xlsx',\n",
       " '~$rmulas.docx',\n",
       " '~$siging hybrid machine learning models for forecasting auditors’ opinion.docx']"
      ]
     },
     "execution_count": 10,
     "metadata": {},
     "output_type": "execute_result"
    }
   ],
   "source": [
    "os.getcwd()\n",
    "os.listdir()"
   ]
  },
  {
   "cell_type": "code",
   "execution_count": 13,
   "metadata": {
    "collapsed": true
   },
   "outputs": [],
   "source": [
    "comparasion_results = pd.read_excel('makale_sonuclari.xlsx')"
   ]
  },
  {
   "cell_type": "code",
   "execution_count": 14,
   "metadata": {},
   "outputs": [
    {
     "data": {
      "text/html": [
       "<div>\n",
       "<style scoped>\n",
       "    .dataframe tbody tr th:only-of-type {\n",
       "        vertical-align: middle;\n",
       "    }\n",
       "\n",
       "    .dataframe tbody tr th {\n",
       "        vertical-align: top;\n",
       "    }\n",
       "\n",
       "    .dataframe thead th {\n",
       "        text-align: right;\n",
       "    }\n",
       "</style>\n",
       "<table border=\"1\" class=\"dataframe\">\n",
       "  <thead>\n",
       "    <tr style=\"text-align: right;\">\n",
       "      <th></th>\n",
       "      <th>No</th>\n",
       "      <th>Benchmarkmodels</th>\n",
       "      <th>Type</th>\n",
       "      <th>Accuracy</th>\n",
       "      <th>F-1 Score</th>\n",
       "      <th>Precision</th>\n",
       "      <th>Recall</th>\n",
       "      <th>Base Model</th>\n",
       "      <th>Feature</th>\n",
       "    </tr>\n",
       "  </thead>\n",
       "  <tbody>\n",
       "    <tr>\n",
       "      <th>0</th>\n",
       "      <td>1</td>\n",
       "      <td>RF-Ada</td>\n",
       "      <td>Hybrid</td>\n",
       "      <td>0.885326</td>\n",
       "      <td>0.854600</td>\n",
       "      <td>0.889697</td>\n",
       "      <td>0.845556</td>\n",
       "      <td>RF</td>\n",
       "      <td>Ada</td>\n",
       "    </tr>\n",
       "    <tr>\n",
       "      <th>1</th>\n",
       "      <td>2</td>\n",
       "      <td>RF-RF</td>\n",
       "      <td>Hybrid</td>\n",
       "      <td>0.876812</td>\n",
       "      <td>0.846930</td>\n",
       "      <td>0.869038</td>\n",
       "      <td>0.824444</td>\n",
       "      <td>RF</td>\n",
       "      <td>RF</td>\n",
       "    </tr>\n",
       "    <tr>\n",
       "      <th>2</th>\n",
       "      <td>3</td>\n",
       "      <td>XGB-CART</td>\n",
       "      <td>Hybrid</td>\n",
       "      <td>0.873188</td>\n",
       "      <td>0.845369</td>\n",
       "      <td>0.860227</td>\n",
       "      <td>0.840000</td>\n",
       "      <td>XGB</td>\n",
       "      <td>CART</td>\n",
       "    </tr>\n",
       "    <tr>\n",
       "      <th>3</th>\n",
       "      <td>4</td>\n",
       "      <td>XGB-Ada</td>\n",
       "      <td>Hybrid</td>\n",
       "      <td>0.872645</td>\n",
       "      <td>0.846501</td>\n",
       "      <td>0.857323</td>\n",
       "      <td>0.847778</td>\n",
       "      <td>XGB</td>\n",
       "      <td>Ada</td>\n",
       "    </tr>\n",
       "    <tr>\n",
       "      <th>4</th>\n",
       "      <td>5</td>\n",
       "      <td>GBM-CART</td>\n",
       "      <td>Hybrid</td>\n",
       "      <td>0.872645</td>\n",
       "      <td>0.847155</td>\n",
       "      <td>0.846623</td>\n",
       "      <td>0.848889</td>\n",
       "      <td>GBM</td>\n",
       "      <td>CART</td>\n",
       "    </tr>\n",
       "    <tr>\n",
       "      <th>5</th>\n",
       "      <td>6</td>\n",
       "      <td>XGB-RF</td>\n",
       "      <td>Hybrid</td>\n",
       "      <td>0.872464</td>\n",
       "      <td>0.843319</td>\n",
       "      <td>0.851742</td>\n",
       "      <td>0.845556</td>\n",
       "      <td>XGB</td>\n",
       "      <td>RF</td>\n",
       "    </tr>\n",
       "    <tr>\n",
       "      <th>6</th>\n",
       "      <td>7</td>\n",
       "      <td>RF-None</td>\n",
       "      <td>Classic</td>\n",
       "      <td>0.872283</td>\n",
       "      <td>0.851147</td>\n",
       "      <td>0.860054</td>\n",
       "      <td>0.834444</td>\n",
       "      <td>RF</td>\n",
       "      <td>None</td>\n",
       "    </tr>\n",
       "    <tr>\n",
       "      <th>7</th>\n",
       "      <td>8</td>\n",
       "      <td>XGB-None</td>\n",
       "      <td>Classic</td>\n",
       "      <td>0.868478</td>\n",
       "      <td>0.834189</td>\n",
       "      <td>0.862424</td>\n",
       "      <td>0.824444</td>\n",
       "      <td>XGB</td>\n",
       "      <td>None</td>\n",
       "    </tr>\n",
       "    <tr>\n",
       "      <th>8</th>\n",
       "      <td>9</td>\n",
       "      <td>RF-CART</td>\n",
       "      <td>Hybrid</td>\n",
       "      <td>0.868297</td>\n",
       "      <td>0.849141</td>\n",
       "      <td>0.862121</td>\n",
       "      <td>0.858889</td>\n",
       "      <td>RF</td>\n",
       "      <td>CART</td>\n",
       "    </tr>\n",
       "    <tr>\n",
       "      <th>9</th>\n",
       "      <td>10</td>\n",
       "      <td>GBM-Ada</td>\n",
       "      <td>Hybrid</td>\n",
       "      <td>0.868116</td>\n",
       "      <td>0.828880</td>\n",
       "      <td>0.873095</td>\n",
       "      <td>0.805556</td>\n",
       "      <td>GBM</td>\n",
       "      <td>Ada</td>\n",
       "    </tr>\n",
       "    <tr>\n",
       "      <th>10</th>\n",
       "      <td>11</td>\n",
       "      <td>GBM-GBM</td>\n",
       "      <td>Hybrid</td>\n",
       "      <td>0.867754</td>\n",
       "      <td>0.827738</td>\n",
       "      <td>0.845455</td>\n",
       "      <td>0.824444</td>\n",
       "      <td>GBM</td>\n",
       "      <td>GBM</td>\n",
       "    </tr>\n",
       "    <tr>\n",
       "      <th>11</th>\n",
       "      <td>12</td>\n",
       "      <td>GBM-None</td>\n",
       "      <td>Classic</td>\n",
       "      <td>0.859601</td>\n",
       "      <td>0.817194</td>\n",
       "      <td>0.851212</td>\n",
       "      <td>0.804444</td>\n",
       "      <td>GBM</td>\n",
       "      <td>None</td>\n",
       "    </tr>\n",
       "    <tr>\n",
       "      <th>12</th>\n",
       "      <td>13</td>\n",
       "      <td>MPL-GBM</td>\n",
       "      <td>Hybrid</td>\n",
       "      <td>0.854891</td>\n",
       "      <td>0.828983</td>\n",
       "      <td>0.864863</td>\n",
       "      <td>0.830000</td>\n",
       "      <td>MPL</td>\n",
       "      <td>GBM</td>\n",
       "    </tr>\n",
       "    <tr>\n",
       "      <th>13</th>\n",
       "      <td>14</td>\n",
       "      <td>MPL-RF</td>\n",
       "      <td>Hybrid</td>\n",
       "      <td>0.854710</td>\n",
       "      <td>0.842381</td>\n",
       "      <td>0.873260</td>\n",
       "      <td>0.815556</td>\n",
       "      <td>MPL</td>\n",
       "      <td>RF</td>\n",
       "    </tr>\n",
       "    <tr>\n",
       "      <th>14</th>\n",
       "      <td>15</td>\n",
       "      <td>RF-GBM</td>\n",
       "      <td>Hybrid</td>\n",
       "      <td>0.850906</td>\n",
       "      <td>0.812790</td>\n",
       "      <td>0.817832</td>\n",
       "      <td>0.813333</td>\n",
       "      <td>RF</td>\n",
       "      <td>GBM</td>\n",
       "    </tr>\n",
       "    <tr>\n",
       "      <th>15</th>\n",
       "      <td>16</td>\n",
       "      <td>GBM-RF</td>\n",
       "      <td>Hybrid</td>\n",
       "      <td>0.850906</td>\n",
       "      <td>0.804737</td>\n",
       "      <td>0.846465</td>\n",
       "      <td>0.794444</td>\n",
       "      <td>GBM</td>\n",
       "      <td>RF</td>\n",
       "    </tr>\n",
       "    <tr>\n",
       "      <th>16</th>\n",
       "      <td>17</td>\n",
       "      <td>MPL-Ada</td>\n",
       "      <td>Hybrid</td>\n",
       "      <td>0.842391</td>\n",
       "      <td>0.768150</td>\n",
       "      <td>0.805620</td>\n",
       "      <td>0.767778</td>\n",
       "      <td>MPL</td>\n",
       "      <td>Ada</td>\n",
       "    </tr>\n",
       "    <tr>\n",
       "      <th>17</th>\n",
       "      <td>18</td>\n",
       "      <td>XGB-GBM</td>\n",
       "      <td>Hybrid</td>\n",
       "      <td>0.841848</td>\n",
       "      <td>0.801265</td>\n",
       "      <td>0.802125</td>\n",
       "      <td>0.823333</td>\n",
       "      <td>XGB</td>\n",
       "      <td>GBM</td>\n",
       "    </tr>\n",
       "    <tr>\n",
       "      <th>18</th>\n",
       "      <td>19</td>\n",
       "      <td>MPL-None</td>\n",
       "      <td>Classic</td>\n",
       "      <td>0.833696</td>\n",
       "      <td>0.805349</td>\n",
       "      <td>0.844892</td>\n",
       "      <td>0.850000</td>\n",
       "      <td>MPL</td>\n",
       "      <td>None</td>\n",
       "    </tr>\n",
       "    <tr>\n",
       "      <th>19</th>\n",
       "      <td>20</td>\n",
       "      <td>MPL-CART</td>\n",
       "      <td>Hybrid</td>\n",
       "      <td>0.833333</td>\n",
       "      <td>0.807200</td>\n",
       "      <td>0.849266</td>\n",
       "      <td>0.770000</td>\n",
       "      <td>MPL</td>\n",
       "      <td>CART</td>\n",
       "    </tr>\n",
       "    <tr>\n",
       "      <th>20</th>\n",
       "      <td>21</td>\n",
       "      <td>KNN-RF</td>\n",
       "      <td>Hybrid</td>\n",
       "      <td>0.825000</td>\n",
       "      <td>0.780322</td>\n",
       "      <td>0.848929</td>\n",
       "      <td>0.748889</td>\n",
       "      <td>KNN</td>\n",
       "      <td>RF</td>\n",
       "    </tr>\n",
       "    <tr>\n",
       "      <th>21</th>\n",
       "      <td>22</td>\n",
       "      <td>KNN-CART</td>\n",
       "      <td>Hybrid</td>\n",
       "      <td>0.820833</td>\n",
       "      <td>0.772084</td>\n",
       "      <td>0.835862</td>\n",
       "      <td>0.748889</td>\n",
       "      <td>KNN</td>\n",
       "      <td>CART</td>\n",
       "    </tr>\n",
       "    <tr>\n",
       "      <th>22</th>\n",
       "      <td>23</td>\n",
       "      <td>KNN-GBM</td>\n",
       "      <td>Hybrid</td>\n",
       "      <td>0.820833</td>\n",
       "      <td>0.780584</td>\n",
       "      <td>0.833849</td>\n",
       "      <td>0.758889</td>\n",
       "      <td>KNN</td>\n",
       "      <td>GBM</td>\n",
       "    </tr>\n",
       "    <tr>\n",
       "      <th>23</th>\n",
       "      <td>24</td>\n",
       "      <td>KNN-None</td>\n",
       "      <td>Classic</td>\n",
       "      <td>0.782790</td>\n",
       "      <td>0.740159</td>\n",
       "      <td>0.781244</td>\n",
       "      <td>0.737778</td>\n",
       "      <td>KNN</td>\n",
       "      <td>None</td>\n",
       "    </tr>\n",
       "    <tr>\n",
       "      <th>24</th>\n",
       "      <td>25</td>\n",
       "      <td>SVM-None</td>\n",
       "      <td>Classic</td>\n",
       "      <td>0.765217</td>\n",
       "      <td>0.758541</td>\n",
       "      <td>0.679378</td>\n",
       "      <td>0.865556</td>\n",
       "      <td>SVM</td>\n",
       "      <td>None</td>\n",
       "    </tr>\n",
       "    <tr>\n",
       "      <th>25</th>\n",
       "      <td>26</td>\n",
       "      <td>KNN-Ada</td>\n",
       "      <td>Hybrid</td>\n",
       "      <td>0.764493</td>\n",
       "      <td>0.702393</td>\n",
       "      <td>0.754387</td>\n",
       "      <td>0.683333</td>\n",
       "      <td>KNN</td>\n",
       "      <td>Ada</td>\n",
       "    </tr>\n",
       "    <tr>\n",
       "      <th>26</th>\n",
       "      <td>27</td>\n",
       "      <td>SVM-RF</td>\n",
       "      <td>Hybrid</td>\n",
       "      <td>0.734601</td>\n",
       "      <td>0.751487</td>\n",
       "      <td>0.628631</td>\n",
       "      <td>0.936667</td>\n",
       "      <td>SVM</td>\n",
       "      <td>RF</td>\n",
       "    </tr>\n",
       "    <tr>\n",
       "      <th>27</th>\n",
       "      <td>28</td>\n",
       "      <td>SVM-CART</td>\n",
       "      <td>Hybrid</td>\n",
       "      <td>0.718116</td>\n",
       "      <td>0.736993</td>\n",
       "      <td>0.609068</td>\n",
       "      <td>0.940000</td>\n",
       "      <td>SVM</td>\n",
       "      <td>CART</td>\n",
       "    </tr>\n",
       "    <tr>\n",
       "      <th>28</th>\n",
       "      <td>29</td>\n",
       "      <td>SVM-Ada</td>\n",
       "      <td>Hybrid</td>\n",
       "      <td>0.666848</td>\n",
       "      <td>0.705472</td>\n",
       "      <td>0.570135</td>\n",
       "      <td>0.938889</td>\n",
       "      <td>SVM</td>\n",
       "      <td>Ada</td>\n",
       "    </tr>\n",
       "    <tr>\n",
       "      <th>29</th>\n",
       "      <td>30</td>\n",
       "      <td>SVM-GBM</td>\n",
       "      <td>Hybrid</td>\n",
       "      <td>0.666304</td>\n",
       "      <td>0.706211</td>\n",
       "      <td>0.570536</td>\n",
       "      <td>0.937778</td>\n",
       "      <td>SVM</td>\n",
       "      <td>GBM</td>\n",
       "    </tr>\n",
       "  </tbody>\n",
       "</table>\n",
       "</div>"
      ],
      "text/plain": [
       "    No Benchmarkmodels     Type  Accuracy  F-1 Score  Precision    Recall  \\\n",
       "0    1          RF-Ada   Hybrid  0.885326   0.854600   0.889697  0.845556   \n",
       "1    2           RF-RF   Hybrid  0.876812   0.846930   0.869038  0.824444   \n",
       "2    3        XGB-CART   Hybrid  0.873188   0.845369   0.860227  0.840000   \n",
       "3    4         XGB-Ada   Hybrid  0.872645   0.846501   0.857323  0.847778   \n",
       "4    5        GBM-CART   Hybrid  0.872645   0.847155   0.846623  0.848889   \n",
       "5    6          XGB-RF   Hybrid  0.872464   0.843319   0.851742  0.845556   \n",
       "6    7         RF-None  Classic  0.872283   0.851147   0.860054  0.834444   \n",
       "7    8        XGB-None  Classic  0.868478   0.834189   0.862424  0.824444   \n",
       "8    9         RF-CART   Hybrid  0.868297   0.849141   0.862121  0.858889   \n",
       "9   10         GBM-Ada   Hybrid  0.868116   0.828880   0.873095  0.805556   \n",
       "10  11         GBM-GBM   Hybrid  0.867754   0.827738   0.845455  0.824444   \n",
       "11  12        GBM-None  Classic  0.859601   0.817194   0.851212  0.804444   \n",
       "12  13         MPL-GBM   Hybrid  0.854891   0.828983   0.864863  0.830000   \n",
       "13  14          MPL-RF   Hybrid  0.854710   0.842381   0.873260  0.815556   \n",
       "14  15          RF-GBM   Hybrid  0.850906   0.812790   0.817832  0.813333   \n",
       "15  16          GBM-RF   Hybrid  0.850906   0.804737   0.846465  0.794444   \n",
       "16  17         MPL-Ada   Hybrid  0.842391   0.768150   0.805620  0.767778   \n",
       "17  18         XGB-GBM   Hybrid  0.841848   0.801265   0.802125  0.823333   \n",
       "18  19        MPL-None  Classic  0.833696   0.805349   0.844892  0.850000   \n",
       "19  20        MPL-CART   Hybrid  0.833333   0.807200   0.849266  0.770000   \n",
       "20  21          KNN-RF   Hybrid  0.825000   0.780322   0.848929  0.748889   \n",
       "21  22        KNN-CART   Hybrid  0.820833   0.772084   0.835862  0.748889   \n",
       "22  23         KNN-GBM   Hybrid  0.820833   0.780584   0.833849  0.758889   \n",
       "23  24        KNN-None  Classic  0.782790   0.740159   0.781244  0.737778   \n",
       "24  25        SVM-None  Classic  0.765217   0.758541   0.679378  0.865556   \n",
       "25  26         KNN-Ada   Hybrid  0.764493   0.702393   0.754387  0.683333   \n",
       "26  27          SVM-RF   Hybrid  0.734601   0.751487   0.628631  0.936667   \n",
       "27  28        SVM-CART   Hybrid  0.718116   0.736993   0.609068  0.940000   \n",
       "28  29         SVM-Ada   Hybrid  0.666848   0.705472   0.570135  0.938889   \n",
       "29  30         SVM-GBM   Hybrid  0.666304   0.706211   0.570536  0.937778   \n",
       "\n",
       "   Base Model Feature  \n",
       "0          RF     Ada  \n",
       "1          RF      RF  \n",
       "2         XGB    CART  \n",
       "3         XGB     Ada  \n",
       "4         GBM    CART  \n",
       "5         XGB      RF  \n",
       "6          RF    None  \n",
       "7         XGB    None  \n",
       "8          RF    CART  \n",
       "9         GBM     Ada  \n",
       "10        GBM     GBM  \n",
       "11        GBM    None  \n",
       "12        MPL     GBM  \n",
       "13        MPL      RF  \n",
       "14         RF     GBM  \n",
       "15        GBM      RF  \n",
       "16        MPL     Ada  \n",
       "17        XGB     GBM  \n",
       "18        MPL    None  \n",
       "19        MPL    CART  \n",
       "20        KNN      RF  \n",
       "21        KNN    CART  \n",
       "22        KNN     GBM  \n",
       "23        KNN    None  \n",
       "24        SVM    None  \n",
       "25        KNN     Ada  \n",
       "26        SVM      RF  \n",
       "27        SVM    CART  \n",
       "28        SVM     Ada  \n",
       "29        SVM     GBM  "
      ]
     },
     "execution_count": 14,
     "metadata": {},
     "output_type": "execute_result"
    }
   ],
   "source": [
    "comparasion_results"
   ]
  },
  {
   "cell_type": "code",
   "execution_count": 15,
   "metadata": {
    "scrolled": true
   },
   "outputs": [
    {
     "data": {
      "text/plain": [
       "<Figure size 1296x864 with 0 Axes>"
      ]
     },
     "execution_count": 15,
     "metadata": {},
     "output_type": "execute_result"
    },
    {
     "data": {
      "image/png": "[encoded data removed]",
      "text/plain": [
       "<Figure size 432x288 with 1 Axes>"
      ]
     },
     "metadata": {},
     "output_type": "display_data"
    },
    {
     "data": {
      "text/plain": [
       "<Figure size 1296x864 with 0 Axes>"
      ]
     },
     "metadata": {},
     "output_type": "display_data"
    }
   ],
   "source": [
    "plt.plot(comparasion_results['No'], comparasion_results['Accuracy'], marker='s', c='b', ls='-', lw=2, ms=8, mew=2, mec='navy')\n",
    "#plt.plot(years, oranges, marker='o', c='r', ls='--', lw=3, ms=10, alpha=.5)\n",
    "\n",
    "plt.xlabel('No')\n",
    "plt.ylabel('Accuracy')\n",
    "\n",
    "plt.title(\"Crop Yields in Kanto\")\n",
    "#plt.legend(['Apples', 'Oranges']);\n",
    "plt.figure(figsize=(18, 12))"
   ]
  },
  {
   "cell_type": "code",
   "execution_count": 21,
   "metadata": {
    "scrolled": true
   },
   "outputs": [
    {
     "data": {
      "image/png": "[encoded data removed]",
      "text/plain": [
       "<Figure size 3024x864 with 1 Axes>"
      ]
     },
     "metadata": {},
     "output_type": "display_data"
    }
   ],
   "source": [
    "from matplotlib import pyplot as plt\n",
    "from matplotlib.ticker import MultipleLocator\n",
    "import numpy as np\n",
    "\n",
    "plt.figure(figsize=(42, 12))\n",
    "plt.title('Accuracy Comparasion of Models')\n",
    "\n",
    "sns.scatterplot(data =comparasion_results,\n",
    "                x=comparasion_results['Benchmarkmodels'], \n",
    "                y=comparasion_results['Accuracy'], \n",
    "                hue=comparasion_results['Feature'],\n",
    "                #style='Classic_Model', size='Type',\n",
    "                s=300);\n",
    "\n",
    "'''# Two example plots\n",
    "fig = plt.figure()\n",
    "ax1 = fig.add_subplot(2,2,1)\n",
    "ax2 = fig.add_subplot(2,2,2)\n",
    "\n",
    "spacing = 0.5 # This can be your user specified spacing. \n",
    "minorLocator = MultipleLocator(spacing)\n",
    "\n",
    "ax1.yaxis.set_minor_locator(minorLocator)\n",
    "ax1.xaxis.set_minor_locator(minorLocator)\n",
    "\n",
    "# Set grid to use minor tick locations. \n",
    "ax1.grid(which = 'minor')\n",
    "\n",
    "spacing = 1\n",
    "minorLocator = MultipleLocator(spacing)\n",
    "\n",
    "# Set minor tick locations.\n",
    "ax2.yaxis.set_minor_locator(minorLocator)\n",
    "ax2.xaxis.set_minor_locator(minorLocator)\n",
    "\n",
    "# Set grid to use minor tick locations. \n",
    "ax2.grid(which = 'minor')\n",
    "'''\n",
    "plt.grid(True)\n",
    "\n",
    "plt.show()"
   ]
  },
  {
   "cell_type": "code",
   "execution_count": null,
   "metadata": {
    "collapsed": true
   },
   "outputs": [],
   "source": []
  },
  {
   "cell_type": "code",
   "execution_count": null,
   "metadata": {
    "collapsed": true
   },
   "outputs": [],
   "source": [
    "import matplotlib.pyplot as plt\n",
    "\n",
    "data = [24, 24, 24, 16, 16, 2, 2, 2]\n",
    "x = list(range(0, len(data)))\n",
    "y = list(range(0, 25))\n",
    "\n",
    "plt.scatter(x, data, marker='s', c='b', s=50)\n",
    "plt.yticks(y)\n",
    "plt.xticks(x)\n",
    "\n",
    "plt.grid(True)\n",
    "plt.show()"
   ]
  },
  {
   "cell_type": "code",
   "execution_count": 68,
   "metadata": {},
   "outputs": [
    {
     "data": {
      "image/png": "[encoded data removed]",
      "text/plain": [
       "<Figure size 432x288 with 1 Axes>"
      ]
     },
     "metadata": {},
     "output_type": "display_data"
    }
   ],
   "source": [
    "import matplotlib.pyplot as plt\n",
    "\n",
    "data = comparasion_results['F-1 Score']*100\n",
    "x = list(range(0, len(data)))\n",
    "y = list(range(0, 100,10))\n",
    "\n",
    "plt.scatter(x, data, marker='s', c='b', s=50)\n",
    "plt.yticks(y)\n",
    "plt.xticks(x)\n",
    "\n",
    "plt.grid(True)\n",
    "plt.show()"
   ]
  },
  {
   "cell_type": "code",
   "execution_count": 164,
   "metadata": {
    "scrolled": true
   },
   "outputs": [
    {
     "data": {
      "text/plain": [
       "<matplotlib.axes._subplots.AxesSubplot at 0x20594393f60>"
      ]
     },
     "execution_count": 164,
     "metadata": {},
     "output_type": "execute_result"
    },
    {
     "data": {
      "image/png": "[encoded data removed]",
      "text/plain": [
       "<Figure size 2304x1152 with 1 Axes>"
      ]
     },
     "metadata": {},
     "output_type": "display_data"
    }
   ],
   "source": [
    "plt.figure(figsize=(32, 16))\n",
    "plt.title('Accuracy Comparasion of Benchmark Models')\n",
    "sns.barplot(x=comparasion_results['Benchmarkmodels'], \n",
    "                y=comparasion_results['Accuracy'], \n",
    "                hue=comparasion_results['Feature'],\n",
    "            data = comparasion_results\n",
    "           )"
   ]
  },
  {
   "cell_type": "code",
   "execution_count": 98,
   "metadata": {},
   "outputs": [
    {
     "data": {
      "text/plain": [
       "Index(['No', 'Benchmarkmodels', 'Type', 'Accuracy', 'F-1 Score', 'Precision',\n",
       "       'Recall', 'Classic_Model', 'Feature', 'Accuracy_100'],\n",
       "      dtype='object')"
      ]
     },
     "execution_count": 98,
     "metadata": {},
     "output_type": "execute_result"
    }
   ],
   "source": [
    "comparasion_results.columns"
   ]
  },
  {
   "cell_type": "code",
   "execution_count": 34,
   "metadata": {
    "scrolled": true
   },
   "outputs": [
    {
     "data": {
      "image/png": "[encoded data removed]",
      "text/plain": [
       "<Figure size 864x576 with 1 Axes>"
      ]
     },
     "metadata": {},
     "output_type": "display_data"
    }
   ],
   "source": [
    "import seaborn as sns\n",
    "#sns.set_theme(style=\"ticks\", palette=\"pastel\")\n",
    "\n",
    "plt.figure(figsize=(12, 8))\n",
    "plt.title('Effect of features on accuracy scores of benchmark and hybrid models')\n",
    "\n",
    "# Load the example tips dataset\n",
    "tips = comparasion_results\n",
    "\n",
    "# Draw a nested boxplot to show bills by day and time\n",
    "sns.boxplot(x=\"Feature\", y=\"Accuracy\",\n",
    "            hue=\"Type\", palette=\"rainbow\",\n",
    "            data=tips)\n",
    "sns.despine(offset=50, trim=True)\n",
    "\n",
    "plt.grid(True)\n",
    "plt.show()"
   ]
  },
  {
   "cell_type": "code",
   "execution_count": 36,
   "metadata": {
    "scrolled": true
   },
   "outputs": [
    {
     "data": {
      "text/plain": [
       "<matplotlib.axes._subplots.AxesSubplot at 0x2594ab9a1d0>"
      ]
     },
     "execution_count": 36,
     "metadata": {},
     "output_type": "execute_result"
    },
    {
     "data": {
      "image/png": "[encoded data removed]",
      "text/plain": [
       "<Figure size 576x576 with 2 Axes>"
      ]
     },
     "metadata": {},
     "output_type": "display_data"
    }
   ],
   "source": [
    "import matplotlib.pyplot as plt\n",
    "import seaborn as sns\n",
    "#sns.set_theme()\n",
    "\n",
    "# Load the example flights dataset and convert to long-form\n",
    "flights_long = comparasion_results\n",
    "flights = (\n",
    "    flights_long\n",
    "    .pivot(index=\"Base Model\", columns=\"Feature\", values=\"Precision\")\n",
    ")\n",
    "\n",
    "# Draw a heatmap with the numeric values in each cell\n",
    "f, ax = plt.subplots(figsize=(8, 8))\n",
    "sns.heatmap(flights, annot=True,  linewidths=.5, ax=ax)"
   ]
  },
  {
   "cell_type": "code",
   "execution_count": null,
   "metadata": {
    "collapsed": true
   },
   "outputs": [],
   "source": [
    "import seaborn as sns\n",
    "\n",
    "df = comparasion_results\n",
    "sns.displot(\n",
    "    df, x=\"Accuracy\", col=\"species\", row=\"Feature\",\n",
    "    binwidth=3, height=3, facet_kws=dict(margin_titles=True),\n",
    ")"
   ]
  },
  {
   "cell_type": "code",
   "execution_count": null,
   "metadata": {
    "collapsed": true
   },
   "outputs": [],
   "source": [
    "g = sns.FacetGrid(comparasion_results, col=\"Classic_Model\",  row=\"Accuracy\")\n",
    "g = g.map(plt.hist, \"Feature\")"
   ]
  },
  {
   "cell_type": "code",
   "execution_count": 26,
   "metadata": {},
   "outputs": [
    {
     "data": {
      "image/png": "[encoded data removed]",
      "text/plain": [
       "<Figure size 432x288 with 1 Axes>"
      ]
     },
     "metadata": {},
     "output_type": "display_data"
    }
   ],
   "source": [
    "# importing the required library\n",
    " \n",
    "import seaborn as sns\n",
    "import matplotlib.pyplot as plt\n",
    " \n",
    "# read a tips.csv file from seaborn library\n",
    "df =comparasion_results\n",
    " \n",
    "# count plot along y axis\n",
    "sns.countplot(y ='Accuracy', hue = \"Feature\", data = df)\n",
    " \n",
    "# Show the plot\n",
    "plt.show()"
   ]
  },
  {
   "cell_type": "code",
   "execution_count": 27,
   "metadata": {},
   "outputs": [
    {
     "data": {
      "text/html": [
       "<div>\n",
       "<style scoped>\n",
       "    .dataframe tbody tr th:only-of-type {\n",
       "        vertical-align: middle;\n",
       "    }\n",
       "\n",
       "    .dataframe tbody tr th {\n",
       "        vertical-align: top;\n",
       "    }\n",
       "\n",
       "    .dataframe thead th {\n",
       "        text-align: right;\n",
       "    }\n",
       "</style>\n",
       "<table border=\"1\" class=\"dataframe\">\n",
       "  <thead>\n",
       "    <tr style=\"text-align: right;\">\n",
       "      <th></th>\n",
       "      <th>No</th>\n",
       "      <th>Benchmarkmodels</th>\n",
       "      <th>Type</th>\n",
       "      <th>Accuracy</th>\n",
       "      <th>F-1 Score</th>\n",
       "      <th>Precision</th>\n",
       "      <th>Recall</th>\n",
       "      <th>Base Model</th>\n",
       "      <th>Feature</th>\n",
       "    </tr>\n",
       "  </thead>\n",
       "  <tbody>\n",
       "    <tr>\n",
       "      <th>0</th>\n",
       "      <td>1</td>\n",
       "      <td>RF-Ada</td>\n",
       "      <td>Hybrid</td>\n",
       "      <td>0.885326</td>\n",
       "      <td>0.854600</td>\n",
       "      <td>0.889697</td>\n",
       "      <td>0.845556</td>\n",
       "      <td>RF</td>\n",
       "      <td>Ada</td>\n",
       "    </tr>\n",
       "    <tr>\n",
       "      <th>1</th>\n",
       "      <td>2</td>\n",
       "      <td>RF-RF</td>\n",
       "      <td>Hybrid</td>\n",
       "      <td>0.876812</td>\n",
       "      <td>0.846930</td>\n",
       "      <td>0.869038</td>\n",
       "      <td>0.824444</td>\n",
       "      <td>RF</td>\n",
       "      <td>RF</td>\n",
       "    </tr>\n",
       "    <tr>\n",
       "      <th>2</th>\n",
       "      <td>3</td>\n",
       "      <td>XGB-CART</td>\n",
       "      <td>Hybrid</td>\n",
       "      <td>0.873188</td>\n",
       "      <td>0.845369</td>\n",
       "      <td>0.860227</td>\n",
       "      <td>0.840000</td>\n",
       "      <td>XGB</td>\n",
       "      <td>CART</td>\n",
       "    </tr>\n",
       "    <tr>\n",
       "      <th>3</th>\n",
       "      <td>4</td>\n",
       "      <td>XGB-Ada</td>\n",
       "      <td>Hybrid</td>\n",
       "      <td>0.872645</td>\n",
       "      <td>0.846501</td>\n",
       "      <td>0.857323</td>\n",
       "      <td>0.847778</td>\n",
       "      <td>XGB</td>\n",
       "      <td>Ada</td>\n",
       "    </tr>\n",
       "    <tr>\n",
       "      <th>4</th>\n",
       "      <td>5</td>\n",
       "      <td>GBM-CART</td>\n",
       "      <td>Hybrid</td>\n",
       "      <td>0.872645</td>\n",
       "      <td>0.847155</td>\n",
       "      <td>0.846623</td>\n",
       "      <td>0.848889</td>\n",
       "      <td>GBM</td>\n",
       "      <td>CART</td>\n",
       "    </tr>\n",
       "    <tr>\n",
       "      <th>5</th>\n",
       "      <td>6</td>\n",
       "      <td>XGB-RF</td>\n",
       "      <td>Hybrid</td>\n",
       "      <td>0.872464</td>\n",
       "      <td>0.843319</td>\n",
       "      <td>0.851742</td>\n",
       "      <td>0.845556</td>\n",
       "      <td>XGB</td>\n",
       "      <td>RF</td>\n",
       "    </tr>\n",
       "    <tr>\n",
       "      <th>6</th>\n",
       "      <td>7</td>\n",
       "      <td>RF-None</td>\n",
       "      <td>Classic</td>\n",
       "      <td>0.872283</td>\n",
       "      <td>0.851147</td>\n",
       "      <td>0.860054</td>\n",
       "      <td>0.834444</td>\n",
       "      <td>RF</td>\n",
       "      <td>None</td>\n",
       "    </tr>\n",
       "    <tr>\n",
       "      <th>7</th>\n",
       "      <td>8</td>\n",
       "      <td>XGB-None</td>\n",
       "      <td>Classic</td>\n",
       "      <td>0.868478</td>\n",
       "      <td>0.834189</td>\n",
       "      <td>0.862424</td>\n",
       "      <td>0.824444</td>\n",
       "      <td>XGB</td>\n",
       "      <td>None</td>\n",
       "    </tr>\n",
       "    <tr>\n",
       "      <th>8</th>\n",
       "      <td>9</td>\n",
       "      <td>RF-CART</td>\n",
       "      <td>Hybrid</td>\n",
       "      <td>0.868297</td>\n",
       "      <td>0.849141</td>\n",
       "      <td>0.862121</td>\n",
       "      <td>0.858889</td>\n",
       "      <td>RF</td>\n",
       "      <td>CART</td>\n",
       "    </tr>\n",
       "    <tr>\n",
       "      <th>9</th>\n",
       "      <td>10</td>\n",
       "      <td>GBM-Ada</td>\n",
       "      <td>Hybrid</td>\n",
       "      <td>0.868116</td>\n",
       "      <td>0.828880</td>\n",
       "      <td>0.873095</td>\n",
       "      <td>0.805556</td>\n",
       "      <td>GBM</td>\n",
       "      <td>Ada</td>\n",
       "    </tr>\n",
       "    <tr>\n",
       "      <th>10</th>\n",
       "      <td>11</td>\n",
       "      <td>GBM-GBM</td>\n",
       "      <td>Hybrid</td>\n",
       "      <td>0.867754</td>\n",
       "      <td>0.827738</td>\n",
       "      <td>0.845455</td>\n",
       "      <td>0.824444</td>\n",
       "      <td>GBM</td>\n",
       "      <td>GBM</td>\n",
       "    </tr>\n",
       "    <tr>\n",
       "      <th>11</th>\n",
       "      <td>12</td>\n",
       "      <td>GBM-None</td>\n",
       "      <td>Classic</td>\n",
       "      <td>0.859601</td>\n",
       "      <td>0.817194</td>\n",
       "      <td>0.851212</td>\n",
       "      <td>0.804444</td>\n",
       "      <td>GBM</td>\n",
       "      <td>None</td>\n",
       "    </tr>\n",
       "    <tr>\n",
       "      <th>12</th>\n",
       "      <td>13</td>\n",
       "      <td>MPL-GBM</td>\n",
       "      <td>Hybrid</td>\n",
       "      <td>0.854891</td>\n",
       "      <td>0.828983</td>\n",
       "      <td>0.864863</td>\n",
       "      <td>0.830000</td>\n",
       "      <td>MPL</td>\n",
       "      <td>GBM</td>\n",
       "    </tr>\n",
       "    <tr>\n",
       "      <th>13</th>\n",
       "      <td>14</td>\n",
       "      <td>MPL-RF</td>\n",
       "      <td>Hybrid</td>\n",
       "      <td>0.854710</td>\n",
       "      <td>0.842381</td>\n",
       "      <td>0.873260</td>\n",
       "      <td>0.815556</td>\n",
       "      <td>MPL</td>\n",
       "      <td>RF</td>\n",
       "    </tr>\n",
       "    <tr>\n",
       "      <th>14</th>\n",
       "      <td>15</td>\n",
       "      <td>RF-GBM</td>\n",
       "      <td>Hybrid</td>\n",
       "      <td>0.850906</td>\n",
       "      <td>0.812790</td>\n",
       "      <td>0.817832</td>\n",
       "      <td>0.813333</td>\n",
       "      <td>RF</td>\n",
       "      <td>GBM</td>\n",
       "    </tr>\n",
       "    <tr>\n",
       "      <th>15</th>\n",
       "      <td>16</td>\n",
       "      <td>GBM-RF</td>\n",
       "      <td>Hybrid</td>\n",
       "      <td>0.850906</td>\n",
       "      <td>0.804737</td>\n",
       "      <td>0.846465</td>\n",
       "      <td>0.794444</td>\n",
       "      <td>GBM</td>\n",
       "      <td>RF</td>\n",
       "    </tr>\n",
       "    <tr>\n",
       "      <th>16</th>\n",
       "      <td>17</td>\n",
       "      <td>MPL-Ada</td>\n",
       "      <td>Hybrid</td>\n",
       "      <td>0.842391</td>\n",
       "      <td>0.768150</td>\n",
       "      <td>0.805620</td>\n",
       "      <td>0.767778</td>\n",
       "      <td>MPL</td>\n",
       "      <td>Ada</td>\n",
       "    </tr>\n",
       "    <tr>\n",
       "      <th>17</th>\n",
       "      <td>18</td>\n",
       "      <td>XGB-GBM</td>\n",
       "      <td>Hybrid</td>\n",
       "      <td>0.841848</td>\n",
       "      <td>0.801265</td>\n",
       "      <td>0.802125</td>\n",
       "      <td>0.823333</td>\n",
       "      <td>XGB</td>\n",
       "      <td>GBM</td>\n",
       "    </tr>\n",
       "    <tr>\n",
       "      <th>18</th>\n",
       "      <td>19</td>\n",
       "      <td>MPL-None</td>\n",
       "      <td>Classic</td>\n",
       "      <td>0.833696</td>\n",
       "      <td>0.805349</td>\n",
       "      <td>0.844892</td>\n",
       "      <td>0.850000</td>\n",
       "      <td>MPL</td>\n",
       "      <td>None</td>\n",
       "    </tr>\n",
       "    <tr>\n",
       "      <th>19</th>\n",
       "      <td>20</td>\n",
       "      <td>MPL-CART</td>\n",
       "      <td>Hybrid</td>\n",
       "      <td>0.833333</td>\n",
       "      <td>0.807200</td>\n",
       "      <td>0.849266</td>\n",
       "      <td>0.770000</td>\n",
       "      <td>MPL</td>\n",
       "      <td>CART</td>\n",
       "    </tr>\n",
       "    <tr>\n",
       "      <th>20</th>\n",
       "      <td>21</td>\n",
       "      <td>KNN-RF</td>\n",
       "      <td>Hybrid</td>\n",
       "      <td>0.825000</td>\n",
       "      <td>0.780322</td>\n",
       "      <td>0.848929</td>\n",
       "      <td>0.748889</td>\n",
       "      <td>KNN</td>\n",
       "      <td>RF</td>\n",
       "    </tr>\n",
       "    <tr>\n",
       "      <th>21</th>\n",
       "      <td>22</td>\n",
       "      <td>KNN-CART</td>\n",
       "      <td>Hybrid</td>\n",
       "      <td>0.820833</td>\n",
       "      <td>0.772084</td>\n",
       "      <td>0.835862</td>\n",
       "      <td>0.748889</td>\n",
       "      <td>KNN</td>\n",
       "      <td>CART</td>\n",
       "    </tr>\n",
       "    <tr>\n",
       "      <th>22</th>\n",
       "      <td>23</td>\n",
       "      <td>KNN-GBM</td>\n",
       "      <td>Hybrid</td>\n",
       "      <td>0.820833</td>\n",
       "      <td>0.780584</td>\n",
       "      <td>0.833849</td>\n",
       "      <td>0.758889</td>\n",
       "      <td>KNN</td>\n",
       "      <td>GBM</td>\n",
       "    </tr>\n",
       "    <tr>\n",
       "      <th>23</th>\n",
       "      <td>24</td>\n",
       "      <td>KNN-None</td>\n",
       "      <td>Classic</td>\n",
       "      <td>0.782790</td>\n",
       "      <td>0.740159</td>\n",
       "      <td>0.781244</td>\n",
       "      <td>0.737778</td>\n",
       "      <td>KNN</td>\n",
       "      <td>None</td>\n",
       "    </tr>\n",
       "    <tr>\n",
       "      <th>24</th>\n",
       "      <td>25</td>\n",
       "      <td>SVM-None</td>\n",
       "      <td>Classic</td>\n",
       "      <td>0.765217</td>\n",
       "      <td>0.758541</td>\n",
       "      <td>0.679378</td>\n",
       "      <td>0.865556</td>\n",
       "      <td>SVM</td>\n",
       "      <td>None</td>\n",
       "    </tr>\n",
       "    <tr>\n",
       "      <th>25</th>\n",
       "      <td>26</td>\n",
       "      <td>KNN-Ada</td>\n",
       "      <td>Hybrid</td>\n",
       "      <td>0.764493</td>\n",
       "      <td>0.702393</td>\n",
       "      <td>0.754387</td>\n",
       "      <td>0.683333</td>\n",
       "      <td>KNN</td>\n",
       "      <td>Ada</td>\n",
       "    </tr>\n",
       "    <tr>\n",
       "      <th>26</th>\n",
       "      <td>27</td>\n",
       "      <td>SVM-RF</td>\n",
       "      <td>Hybrid</td>\n",
       "      <td>0.734601</td>\n",
       "      <td>0.751487</td>\n",
       "      <td>0.628631</td>\n",
       "      <td>0.936667</td>\n",
       "      <td>SVM</td>\n",
       "      <td>RF</td>\n",
       "    </tr>\n",
       "    <tr>\n",
       "      <th>27</th>\n",
       "      <td>28</td>\n",
       "      <td>SVM-CART</td>\n",
       "      <td>Hybrid</td>\n",
       "      <td>0.718116</td>\n",
       "      <td>0.736993</td>\n",
       "      <td>0.609068</td>\n",
       "      <td>0.940000</td>\n",
       "      <td>SVM</td>\n",
       "      <td>CART</td>\n",
       "    </tr>\n",
       "    <tr>\n",
       "      <th>28</th>\n",
       "      <td>29</td>\n",
       "      <td>SVM-Ada</td>\n",
       "      <td>Hybrid</td>\n",
       "      <td>0.666848</td>\n",
       "      <td>0.705472</td>\n",
       "      <td>0.570135</td>\n",
       "      <td>0.938889</td>\n",
       "      <td>SVM</td>\n",
       "      <td>Ada</td>\n",
       "    </tr>\n",
       "    <tr>\n",
       "      <th>29</th>\n",
       "      <td>30</td>\n",
       "      <td>SVM-GBM</td>\n",
       "      <td>Hybrid</td>\n",
       "      <td>0.666304</td>\n",
       "      <td>0.706211</td>\n",
       "      <td>0.570536</td>\n",
       "      <td>0.937778</td>\n",
       "      <td>SVM</td>\n",
       "      <td>GBM</td>\n",
       "    </tr>\n",
       "  </tbody>\n",
       "</table>\n",
       "</div>"
      ],
      "text/plain": [
       "    No Benchmarkmodels     Type  Accuracy  F-1 Score  Precision    Recall  \\\n",
       "0    1          RF-Ada   Hybrid  0.885326   0.854600   0.889697  0.845556   \n",
       "1    2           RF-RF   Hybrid  0.876812   0.846930   0.869038  0.824444   \n",
       "2    3        XGB-CART   Hybrid  0.873188   0.845369   0.860227  0.840000   \n",
       "3    4         XGB-Ada   Hybrid  0.872645   0.846501   0.857323  0.847778   \n",
       "4    5        GBM-CART   Hybrid  0.872645   0.847155   0.846623  0.848889   \n",
       "5    6          XGB-RF   Hybrid  0.872464   0.843319   0.851742  0.845556   \n",
       "6    7         RF-None  Classic  0.872283   0.851147   0.860054  0.834444   \n",
       "7    8        XGB-None  Classic  0.868478   0.834189   0.862424  0.824444   \n",
       "8    9         RF-CART   Hybrid  0.868297   0.849141   0.862121  0.858889   \n",
       "9   10         GBM-Ada   Hybrid  0.868116   0.828880   0.873095  0.805556   \n",
       "10  11         GBM-GBM   Hybrid  0.867754   0.827738   0.845455  0.824444   \n",
       "11  12        GBM-None  Classic  0.859601   0.817194   0.851212  0.804444   \n",
       "12  13         MPL-GBM   Hybrid  0.854891   0.828983   0.864863  0.830000   \n",
       "13  14          MPL-RF   Hybrid  0.854710   0.842381   0.873260  0.815556   \n",
       "14  15          RF-GBM   Hybrid  0.850906   0.812790   0.817832  0.813333   \n",
       "15  16          GBM-RF   Hybrid  0.850906   0.804737   0.846465  0.794444   \n",
       "16  17         MPL-Ada   Hybrid  0.842391   0.768150   0.805620  0.767778   \n",
       "17  18         XGB-GBM   Hybrid  0.841848   0.801265   0.802125  0.823333   \n",
       "18  19        MPL-None  Classic  0.833696   0.805349   0.844892  0.850000   \n",
       "19  20        MPL-CART   Hybrid  0.833333   0.807200   0.849266  0.770000   \n",
       "20  21          KNN-RF   Hybrid  0.825000   0.780322   0.848929  0.748889   \n",
       "21  22        KNN-CART   Hybrid  0.820833   0.772084   0.835862  0.748889   \n",
       "22  23         KNN-GBM   Hybrid  0.820833   0.780584   0.833849  0.758889   \n",
       "23  24        KNN-None  Classic  0.782790   0.740159   0.781244  0.737778   \n",
       "24  25        SVM-None  Classic  0.765217   0.758541   0.679378  0.865556   \n",
       "25  26         KNN-Ada   Hybrid  0.764493   0.702393   0.754387  0.683333   \n",
       "26  27          SVM-RF   Hybrid  0.734601   0.751487   0.628631  0.936667   \n",
       "27  28        SVM-CART   Hybrid  0.718116   0.736993   0.609068  0.940000   \n",
       "28  29         SVM-Ada   Hybrid  0.666848   0.705472   0.570135  0.938889   \n",
       "29  30         SVM-GBM   Hybrid  0.666304   0.706211   0.570536  0.937778   \n",
       "\n",
       "   Base Model Feature  \n",
       "0          RF     Ada  \n",
       "1          RF      RF  \n",
       "2         XGB    CART  \n",
       "3         XGB     Ada  \n",
       "4         GBM    CART  \n",
       "5         XGB      RF  \n",
       "6          RF    None  \n",
       "7         XGB    None  \n",
       "8          RF    CART  \n",
       "9         GBM     Ada  \n",
       "10        GBM     GBM  \n",
       "11        GBM    None  \n",
       "12        MPL     GBM  \n",
       "13        MPL      RF  \n",
       "14         RF     GBM  \n",
       "15        GBM      RF  \n",
       "16        MPL     Ada  \n",
       "17        XGB     GBM  \n",
       "18        MPL    None  \n",
       "19        MPL    CART  \n",
       "20        KNN      RF  \n",
       "21        KNN    CART  \n",
       "22        KNN     GBM  \n",
       "23        KNN    None  \n",
       "24        SVM    None  \n",
       "25        KNN     Ada  \n",
       "26        SVM      RF  \n",
       "27        SVM    CART  \n",
       "28        SVM     Ada  \n",
       "29        SVM     GBM  "
      ]
     },
     "execution_count": 27,
     "metadata": {},
     "output_type": "execute_result"
    }
   ],
   "source": [
    "comparasion_results"
   ]
  },
  {
   "cell_type": "code",
   "execution_count": null,
   "metadata": {
    "collapsed": true
   },
   "outputs": [],
   "source": []
  }
 ],
 "metadata": {
  "kernelspec": {
   "display_name": "Python 3",
   "language": "python",
   "name": "python3"
  },
  "language_info": {
   "codemirror_mode": {
    "name": "ipython",
    "version": 3
   },
   "file_extension": ".py",
   "mimetype": "text/x-python",
   "name": "python",
   "nbconvert_exporter": "python",
   "pygments_lexer": "ipython3",
   "version": "3.6.3"
  }
 },
 "nbformat": 4,
 "nbformat_minor": 2
}
